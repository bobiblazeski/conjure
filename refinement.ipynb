{
 "cells": [
  {
   "cell_type": "code",
   "execution_count": 1,
   "metadata": {},
   "outputs": [],
   "source": [
    "# Global loop\n",
    "# 1 Start with fitted coarse mesh\n",
    "# 2 Increase resolution\n",
    "# 3 Fit fine mesh\n",
    "# 4 Repeat 1 until desired accuracy\n",
    "\n",
    "# Fitting types\n",
    "# 1 Sampling \n",
    "#   1 Sample 6xNxN points from target mesh\n",
    "#   2 chamfer distance between vertices\n",
    "#   3 Repeat\n",
    "# 2 Rendering\n",
    "#   1 Render mesh\n",
    "#   2 Calculate rendering loss\n",
    "#   3 Repeat\n",
    "\n",
    "# Fitting mesh steps\n",
    "# 1 Move by normals\n",
    "# 2 Move by u\n",
    "# 3 Move by v\n",
    "\n",
    "# Mesh representation: \n",
    "# 1 Topologically a sphere \n",
    "# 2 Tensor of 6x3xNxN\n",
    "# 3 Faces as separate array"
   ]
  },
  {
   "cell_type": "code",
   "execution_count": 37,
   "metadata": {},
   "outputs": [
    {
     "data": {
      "application/vnd.jupyter.widget-view+json": {
       "model_id": "e90d733b377c4cb3b5145d9e7f218acc",
       "version_major": 2,
       "version_minor": 0
      },
      "text/plain": [
       "Renderer(camera=PerspectiveCamera(children=(DirectionalLight(color='white', intensity=0.6, position=(0.0, 0.0,…"
      ]
     },
     "metadata": {},
     "output_type": "display_data"
    },
    {
     "data": {
      "application/vnd.jupyter.widget-view+json": {
       "model_id": "eab8586fb6344980a2c2bfe05759a31a",
       "version_major": 2,
       "version_minor": 0
      },
      "text/plain": [
       "Renderer(camera=PerspectiveCamera(children=(DirectionalLight(color='white', intensity=0.6, position=(0.0, 0.0,…"
      ]
     },
     "metadata": {},
     "output_type": "display_data"
    }
   ],
   "source": [
    "import meshplot\n",
    "\n",
    "import torch\n",
    "import torch.nn as nn\n",
    "import torch.nn.functional as F\n",
    "\n",
    "from src.shared.faces import make_cube_faces\n",
    "from src.shared.sides import (    \n",
    "    avg_border,\n",
    "    to_vertices,\n",
    "    to_stacked,\n",
    "    sphered_vertices,\n",
    ")\n",
    "\n",
    "from scripts.geometry import (\n",
    "    compute_vertex_normals, \n",
    "    compute_face_normals,\n",
    ")\n",
    "\n",
    "def show(vertices, faces):\n",
    "    if len(list(vertices.shape)) == 4:\n",
    "        vertices = to_vertices(vertices).detach().numpy()\n",
    "    meshplot.plot(vertices, faces.numpy())\n",
    "\n",
    "class Layer(nn.Module):\n",
    "    def __init__(self, n, coarse_vertices):\n",
    "        super(Layer, self).__init__()\n",
    "        \n",
    "        self.register_buffer('faces', make_cube_faces(n))        \n",
    "        self.vertices = nn.Parameter(self.refine(n, coarse_vertices))\n",
    "        \n",
    "    def refine(self, n, vertices):\n",
    "        return F.interpolate(vertices, n, mode='bilinear', align_corners=False)\n",
    "    \n",
    "    def get_normals():        \n",
    "        face_normals = compute_face_normals(vert, self.faces)\n",
    "        normals = compute_vertex_normals(vert, self.faces, face_normals)\n",
    "        normals = to_stacked(normals)\n",
    "        \n",
    "   \n",
    "\n",
    "n, r = 64, 0.5\n",
    "coarse_faces = make_cube_faces(n)     \n",
    "coarse_vertices = sphered_vertices(n, r)\n",
    "#coarse_vertices = avg_border(coarse_vertices)\n",
    "layer = Layer(32, coarse_vertices)\n",
    "\n",
    "show(coarse_vertices, coarse_faces)\n",
    "show(layer.vertices, layer.faces)"
   ]
  },
  {
   "cell_type": "code",
   "execution_count": 22,
   "metadata": {
    "scrolled": false
   },
   "outputs": [
    {
     "data": {
      "application/vnd.jupyter.widget-view+json": {
       "model_id": "531a627b18104a64a061ef31c860ad0c",
       "version_major": 2,
       "version_minor": 0
      },
      "text/plain": [
       "Renderer(camera=PerspectiveCamera(children=(DirectionalLight(color='white', intensity=0.6, position=(-1.490116…"
      ]
     },
     "metadata": {},
     "output_type": "display_data"
    }
   ],
   "source": [
    "meshplot.plot(to_vertices(coarse_vertices).numpy(), coarse_faces.numpy())\n"
   ]
  },
  {
   "cell_type": "code",
   "execution_count": 27,
   "metadata": {},
   "outputs": [
    {
     "data": {
      "application/vnd.jupyter.widget-view+json": {
       "model_id": "40b33f2b2e654b9da8a685987afd1ad4",
       "version_major": 2,
       "version_minor": 0
      },
      "text/plain": [
       "Renderer(camera=PerspectiveCamera(children=(DirectionalLight(color='white', intensity=0.6, position=(-1.490116…"
      ]
     },
     "metadata": {},
     "output_type": "display_data"
    }
   ],
   "source": []
  },
  {
   "cell_type": "code",
   "execution_count": 21,
   "metadata": {},
   "outputs": [
    {
     "data": {
      "text/plain": [
       "torch.Size([96, 3])"
      ]
     },
     "execution_count": 21,
     "metadata": {},
     "output_type": "execute_result"
    }
   ],
   "source": [
    "vert = sphered_vertices(4, 0.5)\n",
    "vert = to_vertices(vert)\n",
    "vert.shape"
   ]
  },
  {
   "cell_type": "code",
   "execution_count": 24,
   "metadata": {},
   "outputs": [
    {
     "data": {
      "application/vnd.jupyter.widget-view+json": {
       "model_id": "af72eaad9c1c47c5bf2aabf811d62c66",
       "version_major": 2,
       "version_minor": 0
      },
      "text/plain": [
       "Renderer(camera=PerspectiveCamera(children=(DirectionalLight(color='white', intensity=0.6, position=(-1.490116…"
      ]
     },
     "metadata": {},
     "output_type": "display_data"
    },
    {
     "data": {
      "text/plain": [
       "<meshplot.Viewer.Viewer at 0x7f16ae33e690>"
      ]
     },
     "execution_count": 24,
     "metadata": {},
     "output_type": "execute_result"
    }
   ],
   "source": [
    "meshplot.plot(vert.numpy(), faces.numpy())"
   ]
  },
  {
   "cell_type": "code",
   "execution_count": 9,
   "metadata": {},
   "outputs": [
    {
     "data": {
      "text/plain": [
       "torch.Size([6, 3, 4, 4])"
      ]
     },
     "execution_count": 9,
     "metadata": {},
     "output_type": "execute_result"
    }
   ],
   "source": [
    "shape = sphered_vertices(4, 0.5).shape\n",
    "shape"
   ]
  },
  {
   "cell_type": "code",
   "execution_count": 15,
   "metadata": {},
   "outputs": [
    {
     "data": {
      "text/plain": [
       "4"
      ]
     },
     "execution_count": 15,
     "metadata": {},
     "output_type": "execute_result"
    }
   ],
   "source": []
  },
  {
   "cell_type": "code",
   "execution_count": null,
   "metadata": {},
   "outputs": [],
   "source": []
  }
 ],
 "metadata": {
  "kernelspec": {
   "display_name": "Python [conda env:conjure] *",
   "language": "python",
   "name": "conda-env-conjure-py"
  },
  "language_info": {
   "codemirror_mode": {
    "name": "ipython",
    "version": 3
   },
   "file_extension": ".py",
   "mimetype": "text/x-python",
   "name": "python",
   "nbconvert_exporter": "python",
   "pygments_lexer": "ipython3",
   "version": "3.7.11"
  }
 },
 "nbformat": 4,
 "nbformat_minor": 2
}

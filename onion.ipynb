{
 "cells": [
  {
   "cell_type": "code",
   "execution_count": 56,
   "metadata": {},
   "outputs": [],
   "source": [
    "import torch\n",
    "import torch.nn as nn\n",
    "import torch.nn.functional as F\n",
    "\n",
    "from src.shared.faces import make_cube_faces\n",
    "from src.shared.sides import (\n",
    "    sphered_vertices,\n",
    "    to_vertices,\n",
    "    to_stacked,\n",
    ")\n",
    "\n",
    "from scripts.geometry import (\n",
    "    compute_vertex_normals, \n",
    "    compute_face_normals,\n",
    ")\n",
    "\n",
    "import meshplot"
   ]
  },
  {
   "cell_type": "code",
   "execution_count": 10,
   "metadata": {},
   "outputs": [
    {
     "data": {
      "text/plain": [
       "Onion()"
      ]
     },
     "execution_count": 10,
     "metadata": {},
     "output_type": "execute_result"
    }
   ],
   "source": [
    "# Parametrization of a onion\n",
    "class Onion(nn.Module):\n",
    "    def __init__(self):\n",
    "        super(Onion, self).__init__()\n",
    "        # Center\n",
    "        self.root = nn.Parameter(torch.zeros(3))\n",
    "        #self.\n",
    "        #self.register_buffer('phi', phi)\n",
    "        \n",
    "    def forward(self):\n",
    "        # ratios = torch.sigmoid(center_parameters) * scale\n",
    "        # vertices = center + center_normals * ratios\n",
    "        # for layer in layers:\n",
    "        #     vertices = torch.expand(vertices)\n",
    "        #     normals = calculate_normals(vertices, faces)\n",
    "        #     ratios = torch.sigmoid(layer_parameters) * layer_scale\n",
    "        #     vertices = vertices + normals * ratios\n",
    "        return vertices\n",
    "    \n",
    "\n",
    "onion = Onion()\n",
    "onion"
   ]
  },
  {
   "cell_type": "code",
   "execution_count": 9,
   "metadata": {
    "scrolled": true
   },
   "outputs": [
    {
     "data": {
      "text/plain": [
       "torch.Size([44, 3])"
      ]
     },
     "execution_count": 9,
     "metadata": {},
     "output_type": "execute_result"
    }
   ],
   "source": [
    "faces = make_cube_faces(2)\n",
    "faces.shape"
   ]
  },
  {
   "cell_type": "code",
   "execution_count": 12,
   "metadata": {},
   "outputs": [
    {
     "data": {
      "text/plain": [
       "torch.Size([6, 3, 2, 2])"
      ]
     },
     "execution_count": 12,
     "metadata": {},
     "output_type": "execute_result"
    }
   ],
   "source": [
    "sphered_vertices(2, 0.5).shape"
   ]
  },
  {
   "cell_type": "code",
   "execution_count": 52,
   "metadata": {},
   "outputs": [
    {
     "data": {
      "application/vnd.jupyter.widget-view+json": {
       "model_id": "5cb0379fa4754690808e1c89229f75e8",
       "version_major": 2,
       "version_minor": 0
      },
      "text/plain": [
       "Renderer(camera=PerspectiveCamera(children=(DirectionalLight(color='white', intensity=0.6, position=(0.0163567…"
      ]
     },
     "metadata": {},
     "output_type": "display_data"
    }
   ],
   "source": [
    "class Root(nn.Module):\n",
    "    def __init__(self, n, scale):\n",
    "        super(Root, self).__init__()\n",
    "        self.scale = scale\n",
    "        self.center = nn.Parameter(torch.zeros(6, 3, 1, 1))\n",
    "        self.ratios = nn.Parameter(torch.randn(6, 3, n, n) * 0.05)\n",
    "        self.register_buffer('normals', sphered_vertices(n, 1))\n",
    "        self.register_buffer('faces', make_cube_faces(n).int())\n",
    "        \n",
    "    def forward(self):\n",
    "        vertices = self.center + self.normals * torch.sigmoid(self.ratios) * self.scale\n",
    "        return vertices\n",
    "    \n",
    "root = Root(8, 1) \n",
    "\n",
    "meshplot.plot(to_vertices(root()).detach().cpu().numpy(), root.faces.numpy());"
   ]
  },
  {
   "cell_type": "code",
   "execution_count": 36,
   "metadata": {},
   "outputs": [
    {
     "data": {
      "text/plain": [
       "torch.Size([24, 3])"
      ]
     },
     "execution_count": 36,
     "metadata": {},
     "output_type": "execute_result"
    }
   ],
   "source": [
    "to_vertices(root()).shape"
   ]
  },
  {
   "cell_type": "code",
   "execution_count": 60,
   "metadata": {
    "scrolled": false
   },
   "outputs": [
    {
     "data": {
      "application/vnd.jupyter.widget-view+json": {
       "model_id": "797ac2b2c4fb44829d9c90098bc99937",
       "version_major": 2,
       "version_minor": 0
      },
      "text/plain": [
       "Renderer(camera=PerspectiveCamera(children=(DirectionalLight(color='white', intensity=0.6, position=(-0.015286…"
      ]
     },
     "metadata": {},
     "output_type": "display_data"
    }
   ],
   "source": [
    "class Layer(nn.Module):\n",
    "    def __init__(self, n, scale):\n",
    "        super(Layer, self).__init__()\n",
    "        self.n = n\n",
    "        self.scale = scale        \n",
    "        self.ratios = nn.Parameter(torch.zeros(6, 3, n, n))        \n",
    "        self.register_buffer('faces', make_cube_faces(n).int())\n",
    "        \n",
    "    def forward(self, vertices):\n",
    "        vert = F.interpolate(vertices, size=(self.n, self.n), mode='bilinear', align_corners=True)\n",
    "        v_f = to_vertices(vert)\n",
    "        face_normals = compute_face_normals(v_f, self.faces)\n",
    "        normals = compute_vertex_normals(v_f, self.faces, face_normals)\n",
    "        normals = to_stacked(normals)\n",
    "        \n",
    "        vertices = vert + normals * torch.sigmoid(self.ratios) * self.scale\n",
    "        return vertices\n",
    "\n",
    "layer = Layer(2, 0.125) \n",
    "layer(root())\n",
    "\n",
    "meshplot.plot(to_vertices(layer(root())).detach().cpu().numpy(), layer.faces.numpy());"
   ]
  },
  {
   "cell_type": "code",
   "execution_count": null,
   "metadata": {},
   "outputs": [],
   "source": []
  }
 ],
 "metadata": {
  "kernelspec": {
   "display_name": "Python 3",
   "language": "python",
   "name": "python3"
  },
  "language_info": {
   "codemirror_mode": {
    "name": "ipython",
    "version": 3
   },
   "file_extension": ".py",
   "mimetype": "text/x-python",
   "name": "python",
   "nbconvert_exporter": "python",
   "pygments_lexer": "ipython3",
   "version": "3.7.11"
  }
 },
 "nbformat": 4,
 "nbformat_minor": 4
}

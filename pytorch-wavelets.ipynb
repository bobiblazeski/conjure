{
 "cells": [
  {
   "cell_type": "code",
   "execution_count": 3,
   "metadata": {},
   "outputs": [],
   "source": [
    "# Using the PyWavelets module, available at \n",
    "# https://pywavelets.readthedocs.io/en/latest/install.html\n",
    "\n",
    "from matplotlib.image import imread\n",
    "import numpy as np\n",
    "import matplotlib.pyplot as plt\n",
    "import os\n",
    "import pywt\n",
    "plt.rcParams['figure.figsize'] = [8, 8]\n",
    "plt.rcParams.update({'font.size': 18})\n",
    "\n",
    "A = imread(os.path.join('..','DATA','dog.jpg'))\n",
    "B = np.mean(A, -1); # Convert RGB to grayscale"
   ]
  },
  {
   "cell_type": "code",
   "execution_count": 2,
   "metadata": {},
   "outputs": [
    {
     "name": "stdout",
     "output_type": "stream",
     "text": [
      "torch.Size([10, 5, 12, 12])\n",
      "torch.Size([10, 5, 3, 34, 34])\n",
      "torch.Size([10, 5, 3, 19, 19])\n",
      "torch.Size([10, 5, 3, 12, 12])\n"
     ]
    }
   ],
   "source": [
    "import torch\n",
    "from pytorch_wavelets import DWTForward, DWTInverse # (or import DWT, IDWT)\n",
    "xfm = DWTForward(J=3, mode='zero', wave='db3')  # Accepts all wave types available to PyWavelets\n",
    "ifm = DWTInverse(mode='zero', wave='db3')\n",
    "X = torch.randn(10,5,64,64)\n",
    "Yl, Yh = xfm(X)\n",
    "print(Yl.shape)\n",
    "#>>> torch.Size([10, 5, 12, 12])\n",
    "print(Yh[0].shape)\n",
    "#>>> torch.Size([10, 5, 3, 34, 34])\n",
    "print(Yh[1].shape)\n",
    "#>>> torch.Size([10, 5, 3, 19, 19])\n",
    "print(Yh[2].shape)\n",
    "#>>> torch.Size([10, 5, 3, 12, 12])\n",
    "Y = ifm((Yl, Yh))\n",
    "import numpy as np\n",
    "np.testing.assert_array_almost_equal(Y.cpu().numpy(), X.cpu().numpy())"
   ]
  },
  {
   "cell_type": "code",
   "execution_count": 14,
   "metadata": {},
   "outputs": [
    {
     "data": {
      "text/plain": [
       "(torch.Size([1, 3, 2000, 1500]), (2000, 1500, 3))"
      ]
     },
     "execution_count": 14,
     "metadata": {},
     "output_type": "execute_result"
    }
   ],
   "source": [
    "def to_image(t):\n",
    "    return t[0].permute(1, 2, 0).byte().numpy()\n",
    "\n",
    "def to_tensor(img):\n",
    "    return torch.tensor(A).float().permute(2, 0, 1)[None]\n",
    "\n",
    "image_t =  to_tensor(B)\n",
    "image_t.shape, to_image(image_t).shape"
   ]
  },
  {
   "cell_type": "code",
   "execution_count": 15,
   "metadata": {},
   "outputs": [
    {
     "data": {
      "text/plain": [
       "(DWTForward(), DWTInverse())"
      ]
     },
     "execution_count": 15,
     "metadata": {},
     "output_type": "execute_result"
    }
   ],
   "source": [
    "level, wave = 4, 'db3'\n",
    "\n",
    "xfm = DWTForward(J=level, mode='zero', wave=wave)\n",
    "ifm = DWTInverse(mode='zero', wave=wave)\n",
    "xfm, ifm"
   ]
  },
  {
   "cell_type": "code",
   "execution_count": 17,
   "metadata": {
    "scrolled": true
   },
   "outputs": [
    {
     "data": {
      "text/plain": [
       "torch.Size([1, 3, 129, 98])"
      ]
     },
     "execution_count": 17,
     "metadata": {},
     "output_type": "execute_result"
    }
   ],
   "source": [
    "Yl, Yh = xfm(image_t)\n",
    "Yl.shape#, Yh"
   ]
  },
  {
   "cell_type": "code",
   "execution_count": 20,
   "metadata": {},
   "outputs": [
    {
     "data": {
      "text/plain": [
       "[torch.Size([1, 3, 3, 1002, 752]),\n",
       " torch.Size([1, 3, 3, 503, 378]),\n",
       " torch.Size([1, 3, 3, 254, 191]),\n",
       " torch.Size([1, 3, 3, 129, 98])]"
      ]
     },
     "execution_count": 20,
     "metadata": {},
     "output_type": "execute_result"
    }
   ],
   "source": [
    "[l.shape for l in  Yh]"
   ]
  },
  {
   "cell_type": "code",
   "execution_count": 1,
   "metadata": {},
   "outputs": [
    {
     "ename": "NameError",
     "evalue": "name 'pywt' is not defined",
     "output_type": "error",
     "traceback": [
      "\u001b[0;31m---------------------------------------------------------------------------\u001b[0m",
      "\u001b[0;31mNameError\u001b[0m                                 Traceback (most recent call last)",
      "\u001b[0;32m<ipython-input-1-1ab7a5b2c713>\u001b[0m in \u001b[0;36m<module>\u001b[0;34m\u001b[0m\n\u001b[1;32m      2\u001b[0m \u001b[0mn\u001b[0m \u001b[0;34m=\u001b[0m \u001b[0;36m4\u001b[0m\u001b[0;34m\u001b[0m\u001b[0;34m\u001b[0m\u001b[0m\n\u001b[1;32m      3\u001b[0m \u001b[0mw\u001b[0m \u001b[0;34m=\u001b[0m \u001b[0;34m'db20'\u001b[0m\u001b[0;34m\u001b[0m\u001b[0;34m\u001b[0m\u001b[0m\n\u001b[0;32m----> 4\u001b[0;31m \u001b[0mcoeffs\u001b[0m \u001b[0;34m=\u001b[0m \u001b[0mpywt\u001b[0m\u001b[0;34m.\u001b[0m\u001b[0mwavedec2\u001b[0m\u001b[0;34m(\u001b[0m\u001b[0mB\u001b[0m\u001b[0;34m,\u001b[0m\u001b[0mwavelet\u001b[0m\u001b[0;34m=\u001b[0m\u001b[0mw\u001b[0m\u001b[0;34m,\u001b[0m\u001b[0mlevel\u001b[0m\u001b[0;34m=\u001b[0m\u001b[0mn\u001b[0m\u001b[0;34m)\u001b[0m\u001b[0;34m\u001b[0m\u001b[0;34m\u001b[0m\u001b[0m\n\u001b[0m\u001b[1;32m      5\u001b[0m \u001b[0;34m\u001b[0m\u001b[0m\n\u001b[1;32m      6\u001b[0m \u001b[0mcoeff_arr\u001b[0m\u001b[0;34m,\u001b[0m \u001b[0mcoeff_slices\u001b[0m \u001b[0;34m=\u001b[0m \u001b[0mpywt\u001b[0m\u001b[0;34m.\u001b[0m\u001b[0mcoeffs_to_array\u001b[0m\u001b[0;34m(\u001b[0m\u001b[0mcoeffs\u001b[0m\u001b[0;34m)\u001b[0m\u001b[0;34m\u001b[0m\u001b[0;34m\u001b[0m\u001b[0m\n",
      "\u001b[0;31mNameError\u001b[0m: name 'pywt' is not defined"
     ]
    }
   ],
   "source": [
    "## Wavelet Compression\n",
    "n = 4\n",
    "w = 'db20'\n",
    "coeffs = pywt.wavedec2(B,wavelet=w,level=n)\n",
    "\n",
    "coeff_arr, coeff_slices = pywt.coeffs_to_array(coeffs)\n",
    "#print([f.shape for f in coeff_slices])\n",
    "Csort = np.sort(np.abs(coeff_arr.reshape(-1)))\n",
    "\n",
    "for keep in (1, 0.1, 0.05, 0.01, 0.005):\n",
    "    thresh = Csort[int(np.floor((1-keep)*len(Csort)))]    \n",
    "    ind = np.abs(coeff_arr) > thresh\n",
    "    Cfilt = coeff_arr * ind # Threshold small indices\n",
    "    \n",
    "    coeffs_filt = pywt.array_to_coeffs(Cfilt,coeff_slices,\n",
    "        output_format='wavedec2')\n",
    "    \n",
    "    # Plot reconstruction\n",
    "    Arecon = pywt.waverec2(coeffs_filt,wavelet=w)\n",
    "    plt.figure()\n",
    "    plt.imshow(Arecon.astype('uint8'),cmap='gray')\n",
    "    plt.axis('off')\n",
    "    plt.title('keep = ' + str(keep))"
   ]
  },
  {
   "cell_type": "code",
   "execution_count": 22,
   "metadata": {},
   "outputs": [
    {
     "data": {
      "text/plain": [
       "[(slice(None, 161, None), slice(None, 130, None)),\n",
       " {'ad': (slice(None, 161, None), slice(130, 260, None)),\n",
       "  'da': (slice(161, 322, None), slice(None, 130, None)),\n",
       "  'dd': (slice(161, 322, None), slice(130, 260, None))},\n",
       " {'ad': (slice(None, 284, None), slice(260, 481, None)),\n",
       "  'da': (slice(322, 606, None), slice(None, 221, None)),\n",
       "  'dd': (slice(322, 606, None), slice(260, 481, None))},\n",
       " {'ad': (slice(None, 529, None), slice(481, 885, None)),\n",
       "  'da': (slice(606, 1135, None), slice(None, 404, None)),\n",
       "  'dd': (slice(606, 1135, None), slice(481, 885, None))},\n",
       " {'ad': (slice(None, 1019, None), slice(885, 1654, None)),\n",
       "  'da': (slice(1135, 2154, None), slice(None, 769, None)),\n",
       "  'dd': (slice(1135, 2154, None), slice(885, 1654, None))}]"
      ]
     },
     "execution_count": 22,
     "metadata": {},
     "output_type": "execute_result"
    }
   ],
   "source": [
    "coeff_slices\n"
   ]
  },
  {
   "cell_type": "code",
   "execution_count": null,
   "metadata": {},
   "outputs": [],
   "source": []
  }
 ],
 "metadata": {
  "kernelspec": {
   "display_name": "Python [conda env:conjure] *",
   "language": "python",
   "name": "conda-env-conjure-py"
  },
  "language_info": {
   "codemirror_mode": {
    "name": "ipython",
    "version": 3
   },
   "file_extension": ".py",
   "mimetype": "text/x-python",
   "name": "python",
   "nbconvert_exporter": "python",
   "pygments_lexer": "ipython3",
   "version": "3.7.11"
  }
 },
 "nbformat": 4,
 "nbformat_minor": 2
}

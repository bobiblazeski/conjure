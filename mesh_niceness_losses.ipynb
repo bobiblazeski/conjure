{
 "cells": [
  {
   "cell_type": "code",
   "execution_count": 29,
   "metadata": {},
   "outputs": [],
   "source": [
    "# No fast transitions\n",
    "# The points close on the grid \n",
    "# should be close in real space\n",
    "import math\n",
    "import torch\n",
    "import torch.nn as nn\n",
    "import torch.nn.functional as F\n",
    "\n",
    "import meshplot\n",
    "import matplotlib.pyplot as plt\n",
    "\n",
    "from src.shared.sides import (\n",
    "    sphered_vertices,\n",
    "    to_vertices,\n",
    ")\n",
    "from src.shared.faces import (\n",
    "    make_cube_faces,\n",
    ")\n",
    "\n",
    "from src.loss.distance_loss import get_distance_loss\n",
    "from src.loss.angle_loss import get_angle_loss\n",
    "\n",
    "torch.set_printoptions( precision=4, sci_mode=False)"
   ]
  },
  {
   "cell_type": "code",
   "execution_count": 2,
   "metadata": {},
   "outputs": [],
   "source": [
    "device = torch.device('cuda')\n",
    "n = 64\n",
    "faces = make_cube_faces(n)\n",
    "sphere = sphered_vertices(n, 0.5).to(device)\n",
    "noise = torch.randn_like(sphere).to(device)"
   ]
  },
  {
   "cell_type": "code",
   "execution_count": 33,
   "metadata": {},
   "outputs": [
    {
     "name": "stdout",
     "output_type": "stream",
     "text": [
      "tensor(0.7956, device='cuda:0', grad_fn=<MulBackward0>)\n",
      "tensor(0.5609, device='cuda:0', grad_fn=<MulBackward0>)\n"
     ]
    },
    {
     "data": {
      "application/vnd.jupyter.widget-view+json": {
       "model_id": "748e5f808a9d479aa4446846f9fa16d5",
       "version_major": 2,
       "version_minor": 0
      },
      "text/plain": [
       "Renderer(camera=PerspectiveCamera(children=(DirectionalLight(color='white', intensity=0.6, position=(-0.002714…"
      ]
     },
     "metadata": {},
     "output_type": "display_data"
    },
    {
     "data": {
      "text/plain": [
       "<meshplot.Viewer.Viewer at 0x7f0ac97591d0>"
      ]
     },
     "execution_count": 33,
     "metadata": {},
     "output_type": "execute_result"
    }
   ],
   "source": [
    "ratio = 0.01\n",
    "noise_g = noise.clone() * ratio + sphere.clone() * (1 - ratio)\n",
    "noise_g.requires_grad_(True)\n",
    "\n",
    "opt = torch.optim.SGD([noise_g], lr=0.003)\n",
    "print(get_angle_loss(noise_g))\n",
    "print(get_distance_loss(noise_g))\n",
    "meshplot.plot(to_vertices(noise_g).cpu().detach().numpy(), faces.numpy())"
   ]
  },
  {
   "cell_type": "code",
   "execution_count": 37,
   "metadata": {
    "scrolled": true
   },
   "outputs": [
    {
     "name": "stderr",
     "output_type": "stream",
     "text": [
      "/home/bobi/.local/lib/python3.7/site-packages/ipykernel_launcher.py:1: UserWarning: Anomaly Detection has been enabled. This mode will increase the runtime and should only be enabled for debugging.\n",
      "  \"\"\"Entry point for launching an IPython kernel.\n"
     ]
    },
    {
     "name": "stdout",
     "output_type": "stream",
     "text": [
      "0 0.14438501000404358\n",
      "100 0.12899015843868256\n",
      "200 0.11966992914676666\n",
      "300 0.11102961003780365\n",
      "400 0.10295895487070084\n",
      "500 0.09543734788894653\n",
      "600 0.08837184309959412\n",
      "700 0.08179635554552078\n",
      "800 0.07575801014900208\n",
      "900 0.07018434256315231\n",
      "1000 0.06500596553087234\n",
      "1100 0.060261864215135574\n",
      "1200 0.055882927030324936\n",
      "1300 0.051906146109104156\n",
      "1400 0.04825578257441521\n",
      "1500 0.0448855385184288\n",
      "1600 0.041734252125024796\n",
      "1700 0.03888119012117386\n",
      "1800 0.03622274473309517\n",
      "1900 0.033746637403964996\n",
      "2000 0.031396884471178055\n",
      "2100 0.02920241467654705\n",
      "2200 0.02714626118540764\n",
      "2300 0.02529820427298546\n",
      "2400 0.02358693815767765\n",
      "2500 0.021961156278848648\n",
      "2600 0.02049505151808262\n",
      "2700 0.019146030768752098\n",
      "2800 0.01793137565255165\n",
      "2900 0.016863731667399406\n",
      "3000 0.015874426811933517\n",
      "3100 0.014949310570955276\n",
      "3200 0.014102540910243988\n",
      "3300 0.013289885595440865\n",
      "3400 0.012522643432021141\n",
      "3500 0.01178640965372324\n",
      "3600 0.011108518578112125\n",
      "3700 0.010476394556462765\n",
      "3800 0.009885337203741074\n",
      "3900 0.00931741762906313\n",
      "4000 0.0087966937571764\n",
      "4100 0.008309092372655869\n",
      "4200 0.007859451696276665\n",
      "4300 0.007435960229486227\n",
      "4400 0.0070162429474294186\n",
      "4500 0.006614184007048607\n",
      "4600 0.006231136154383421\n",
      "4700 0.005874758120626211\n",
      "4800 0.0055393036454916\n",
      "4900 0.005225690081715584\n",
      "5000 0.004926436115056276\n",
      "5100 0.004646784625947475\n",
      "5200 0.004398752469569445\n",
      "5300 0.004170545842498541\n",
      "5400 0.0039509558118879795\n",
      "5500 0.003734604688361287\n",
      "5600 0.003540745936334133\n",
      "5700 0.0033549570944160223\n",
      "5800 0.0031691077165305614\n",
      "5900 0.002989252330735326\n",
      "6000 0.002824183087795973\n",
      "6100 0.002669265726581216\n",
      "6200 0.002513705985620618\n",
      "6300 0.002365065272897482\n",
      "6400 0.0022287701722234488\n",
      "6500 0.002099052770063281\n",
      "6600 0.0019874649588018656\n",
      "6700 0.0018819922115653753\n",
      "6800 0.0017894917400553823\n",
      "6900 0.0017081614350900054\n",
      "7000 0.001630023936741054\n",
      "7100 0.001557199633680284\n",
      "7200 0.0014897164655849338\n",
      "7300 0.0014256634749472141\n",
      "7400 0.0013658911921083927\n",
      "7500 0.001307153608649969\n",
      "7600 0.0012527344515547156\n",
      "7700 0.001202952116727829\n",
      "7800 0.001154029043391347\n",
      "7900 0.001101930276490748\n",
      "8000 0.0010551490122452378\n",
      "8100 0.001010777079500258\n",
      "8200 0.0009672510786913335\n",
      "8300 0.0009316480718553066\n",
      "8400 0.0008976957760751247\n",
      "8500 0.0008674001437611878\n",
      "8600 0.0008396623888984323\n",
      "8700 0.0008138021221384406\n",
      "8800 0.0007851856644265354\n",
      "8900 0.0007540512597188354\n",
      "9000 0.0007209788309410214\n",
      "9100 0.0006891603698022664\n",
      "9200 0.0006562633207067847\n",
      "9300 0.0006249502766877413\n",
      "9400 0.0005932931089773774\n",
      "9500 0.0005619962466880679\n",
      "9600 0.0005343187367543578\n",
      "9700 0.0005050033214502037\n",
      "9800 0.0004792255349457264\n",
      "9900 0.0004571452154777944\n"
     ]
    }
   ],
   "source": [
    "with torch.autograd.detect_anomaly():\n",
    "    for step in range(10000):\n",
    "        opt.zero_grad()\n",
    "        \n",
    "        d_loss = get_distance_loss(noise_g) \n",
    "        \n",
    "        a_loss = get_angle_loss(noise_g)\n",
    "        loss = d_loss + a_loss\n",
    "        if step % 100 == 0:\n",
    "            print(step, loss.item())      \n",
    "        loss.backward()\n",
    "        # Update parameters\n",
    "        opt.step()"
   ]
  },
  {
   "cell_type": "code",
   "execution_count": 36,
   "metadata": {},
   "outputs": [
    {
     "data": {
      "application/vnd.jupyter.widget-view+json": {
       "model_id": "6d6794698a6d429abf6458dc91914212",
       "version_major": 2,
       "version_minor": 0
      },
      "text/plain": [
       "Renderer(camera=PerspectiveCamera(children=(DirectionalLight(color='white', intensity=0.6, position=(0.0014581…"
      ]
     },
     "metadata": {},
     "output_type": "display_data"
    },
    {
     "data": {
      "text/plain": [
       "<meshplot.Viewer.Viewer at 0x7f0ac986e650>"
      ]
     },
     "execution_count": 36,
     "metadata": {},
     "output_type": "execute_result"
    }
   ],
   "source": [
    "meshplot.plot(to_vertices(noise_g).cpu().detach().numpy(), faces.numpy())"
   ]
  },
  {
   "cell_type": "code",
   "execution_count": 35,
   "metadata": {},
   "outputs": [],
   "source": [
    "import math\n",
    "import torch\n",
    "import torch.nn.functional as F\n",
    "\n",
    "third = math.pi / 3\n",
    "\n",
    "def get_angles(a, b, c, dim=1):\n",
    "    ba = a - b\n",
    "    bc = c - b    \n",
    "    dot = (ba * bc).sum(dim=dim)\n",
    "    norm = torch.linalg.norm(ba, dim=dim) * torch.linalg.norm(bc, dim=dim)\n",
    "    cosine_angle = dot / (norm + 0.00001)\n",
    "    #print(norm.min(), norm.max())\n",
    "    #print(dot.min(), dot.max())\n",
    "    #print(cosine_angle.min(), cosine_angle.max())\n",
    "    return torch.acos(cosine_angle)# .clip(-1, 1)\n",
    "\n",
    "\n",
    "def get_angle_loss(t, limit=third):\n",
    "    a = t[:, :,  :-2, :]\n",
    "    b = t[:, :, 1:-1, :]\n",
    "    c = t[:, :, 2:,   :]\n",
    "    ha = get_angles(a, b, c)\n",
    "    ha = F.relu(math.pi - ha - limit)\n",
    "    \n",
    "    a = t[:, :, :,  :-2]\n",
    "    b = t[:, :, :, 1:-1]\n",
    "    c = t[:, :, :, 2:]\n",
    "    va = get_angles(a, b, c)\n",
    "    va = F.relu(math.pi - va - limit)    \n",
    "    res = ha.mean() + va.mean()\n",
    "    return res * 0.5"
   ]
  },
  {
   "cell_type": "code",
   "execution_count": 23,
   "metadata": {},
   "outputs": [
    {
     "name": "stdout",
     "output_type": "stream",
     "text": [
      "tensor(    0.0000, device='cuda:0', grad_fn=<MinBackward1>) tensor(0.0023, device='cuda:0', grad_fn=<MaxBackward1>)\n",
      "tensor(    0.0000, device='cuda:0', grad_fn=<MinBackward1>) tensor(0.0047, device='cuda:0', grad_fn=<MaxBackward1>)\n"
     ]
    },
    {
     "data": {
      "text/plain": [
       "tensor(0.1433, device='cuda:0', grad_fn=<MulBackward0>)"
      ]
     },
     "execution_count": 23,
     "metadata": {},
     "output_type": "execute_result"
    }
   ],
   "source": [
    "get_angle_loss(noise_g)"
   ]
  },
  {
   "cell_type": "code",
   "execution_count": null,
   "metadata": {},
   "outputs": [],
   "source": []
  }
 ],
 "metadata": {
  "kernelspec": {
   "display_name": "Python [conda env:conjure] *",
   "language": "python",
   "name": "conda-env-conjure-py"
  },
  "language_info": {
   "codemirror_mode": {
    "name": "ipython",
    "version": 3
   },
   "file_extension": ".py",
   "mimetype": "text/x-python",
   "name": "python",
   "nbconvert_exporter": "python",
   "pygments_lexer": "ipython3",
   "version": "3.7.11"
  }
 },
 "nbformat": 4,
 "nbformat_minor": 2
}

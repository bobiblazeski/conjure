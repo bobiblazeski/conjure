{
 "cells": [
  {
   "cell_type": "code",
   "execution_count": 37,
   "metadata": {},
   "outputs": [],
   "source": [
    "import numpy as np\n",
    "import torch\n",
    "\n",
    "from math import (atan2, pi, sqrt, floor)   \n",
    "from collections import OrderedDict\n",
    "\n",
    "from src.shared.blueprint import (\n",
    "    Blueprint,    \n",
    ")\n",
    "\n",
    "from src.shared.polar_traversal import (\n",
    "    gather_all_paths,\n",
    "    sample_path,\n",
    "    sample_all_paths,\n",
    ")\n",
    "\n",
    "from src.shared.polar_traversal import (\n",
    "    Bridge,\n",
    "    make_latitudes,\n",
    "    get_start,\n",
    "    gather_path,\n",
    "    cumulative_distances,    \n",
    ")\n",
    "\n",
    "from src.shared.faces import ( make_cube_faces, make_sides, make_faces)\n",
    "from src.shared.sides import (\n",
    "    to_vertices,\n",
    "    to_stacked,\n",
    "    avg_border,\n",
    ")\n",
    "import meshplot"
   ]
  },
  {
   "cell_type": "code",
   "execution_count": 55,
   "metadata": {
    "scrolled": true
   },
   "outputs": [
    {
     "name": "stderr",
     "output_type": "stream",
     "text": [
      "face_normals all zero, ignoring!\n"
     ]
    },
    {
     "name": "stdout",
     "output_type": "stream",
     "text": [
      "./data/heads/centered_3_repaired.stl\n",
      "0 16\n",
      "1 16\n",
      "2 16\n",
      "3 16\n",
      "4 16\n",
      "5 16\n",
      "6 16\n",
      "7 16\n",
      "8 16\n",
      "9 16\n",
      "10 16\n",
      "11 16\n",
      "12 16\n",
      "13 16\n",
      "14 16\n",
      "15 16\n",
      "torch.Size([3, 16, 2]) torch.Size([3, 16, 2])\n",
      "torch.Size([3, 16, 2]) 0 1 1 -2 -2\n",
      "tensor([ 0.3152, -0.0024,  0.3752]) 2.356194490192345\n",
      "tensor([0.2950, 0.1214, 0.4006]) 3.356194490192345\n",
      "torch.Size([3, 16, 2]) 0 1 1 -2 -1\n",
      "tensor([ 0.3152, -0.0024,  0.3752]) 2.819842099193151\n",
      "tensor([0.2950, 0.1214, 0.4006]) 3.819842099193151\n",
      "torch.Size([3, 16, 2]) 8 9 1 6 0\n",
      "tensor([-0.3159, -0.0016,  0.3750]) 5.180157900806849\n",
      "tensor([-0.2749, -0.1143,  0.4085]) 6.180157900806849\n",
      "torch.Size([3, 16, 2]) 6 7 1 4 1\n",
      "tensor([-0.2506,  0.2511,  0.5016]) 3.643805509807655\n",
      "tensor([-0.2912,  0.1190,  0.4063]) 4.643805509807655\n",
      "torch.Size([3, 16, 2]) 0 1 1 -2 -2\n",
      "tensor([ 0.3152, -0.0024,  0.3752]) 1.892546881191539\n",
      "tensor([0.2950, 0.1214, 0.4006]) 2.8925468811915387\n",
      "torch.Size([3, 16, 2]) 0 1 0 -2 -1\n",
      "tensor([0.1517, 0.0043, 0.5042]) 2.356194490192345\n",
      "tensor([0.1178, 0.0420, 0.5130]) 3.356194490192345\n",
      "torch.Size([3, 16, 2]) 6 7 0 4 0\n",
      "tensor([-0.1258,  0.1225,  0.4703]) 3.643805509807655\n",
      "tensor([-0.1146,  0.0382,  0.5170]) 4.643805509807655\n",
      "torch.Size([3, 16, 2]) 5 6 1 3 1\n",
      "tensor([-0.1441,  0.3676,  0.5198]) 3.1074531188084613\n",
      "tensor([-0.2506,  0.2511,  0.5016]) 4.107453118808461\n",
      "torch.Size([3, 16, 2]) 0 1 1 -2 -2\n",
      "tensor([ 0.3152, -0.0024,  0.3752]) 1.2490457723982544\n",
      "tensor([0.2950, 0.1214, 0.4006]) 2.2490457723982544\n",
      "torch.Size([3, 16, 2]) 0 1 0 -2 -1\n",
      "tensor([0.1517, 0.0043, 0.5042]) 0.7853981633974483\n",
      "tensor([0.1178, 0.0420, 0.5130]) 1.7853981633974483\n",
      "torch.Size([3, 16, 2]) 2 3 0 0 0\n",
      "tensor([0.1265, 0.1288, 0.4672]) 1.2146018366025517\n",
      "tensor([0.0729, 0.1729, 0.5231]) 2.2146018366025517\n",
      "torch.Size([3, 16, 2]) 4 5 1 2 1\n",
      "tensor([0.0035, 0.5263, 0.4961]) 2.7509542276017456\n",
      "tensor([-0.1441,  0.3676,  0.5198]) 3.7509542276017456\n",
      "torch.Size([3, 16, 2]) 0 1 1 -2 -2\n",
      "tensor([ 0.3152, -0.0024,  0.3752]) 0.7853981633974483\n",
      "tensor([0.2950, 0.1214, 0.4006]) 1.7853981633974483\n",
      "torch.Size([3, 16, 2]) 0 1 1 -2 -1\n",
      "tensor([ 0.3152, -0.0024,  0.3752]) 0.3217505543966422\n",
      "tensor([0.2950, 0.1214, 0.4006]) 1.3217505543966421\n",
      "torch.Size([3, 16, 2]) 1 2 1 -1 0\n",
      "tensor([0.2950, 0.1214, 0.4006]) 0.6782494456033579\n",
      "tensor([0.2501, 0.2512, 0.5018]) 1.6782494456033579\n",
      "torch.Size([3, 16, 2]) 2 3 1 0 1\n",
      "tensor([0.2501, 0.2512, 0.5018]) 1.2146018366025517\n",
      "tensor([0.1613, 0.3726, 0.5077]) 2.2146018366025517\n",
      "torch.Size([3, 16, 2]) 0 1 1 -2 -2\n",
      "tensor([ 0.0059,  0.0070, -0.5459]) 2.356194490192345\n",
      "tensor([    -0.0005,     -0.0040,     -0.5425]) 3.356194490192345\n",
      "torch.Size([3, 16, 2]) 0 1 1 -2 -1\n",
      "tensor([ 0.0059,  0.0070, -0.5459]) 2.819842099193151\n",
      "tensor([    -0.0005,     -0.0040,     -0.5425]) 3.819842099193151\n",
      "torch.Size([3, 16, 2]) 8 9 1 6 0\n",
      "tensor([-0.0055,  0.0025, -0.5445]) 5.180157900806849\n",
      "tensor([-0.0022,  0.0088, -0.5464]) 6.180157900806849\n",
      "torch.Size([3, 16, 2]) 6 7 1 4 1\n",
      "tensor([-0.0076,  0.0061, -0.5456]) 3.643805509807655\n",
      "tensor([-0.0068,  0.0047, -0.5452]) 4.643805509807655\n",
      "torch.Size([3, 16, 2]) 0 1 1 -2 -2\n",
      "tensor([ 0.0059,  0.0070, -0.5459]) 1.892546881191539\n",
      "tensor([    -0.0005,     -0.0040,     -0.5425]) 2.8925468811915387\n",
      "torch.Size([3, 16, 2]) 0 1 0 -2 -1\n",
      "tensor([ 0.2149, -0.0982, -0.4232]) 2.356194490192345\n",
      "tensor([ 0.1458, -0.1483, -0.4695]) 3.356194490192345\n",
      "torch.Size([3, 16, 2]) 6 7 0 4 0\n",
      "tensor([-0.2158, -0.0980, -0.4232]) 3.643805509807655\n",
      "tensor([-0.2206, -0.0046, -0.4550]) 4.643805509807655\n",
      "torch.Size([3, 16, 2]) 5 6 1 3 1\n",
      "tensor([-0.0083,  0.0074, -0.5460]) 3.1074531188084613\n",
      "tensor([-0.0076,  0.0061, -0.5456]) 4.107453118808461\n",
      "torch.Size([3, 16, 2]) 0 1 1 -2 -2\n",
      "tensor([ 0.0059,  0.0070, -0.5459]) 1.2490457723982544\n",
      "tensor([    -0.0005,     -0.0040,     -0.5425]) 2.2490457723982544\n",
      "torch.Size([3, 16, 2]) 0 1 0 -2 -1\n",
      "tensor([ 0.2149, -0.0982, -0.4232]) 0.7853981633974483\n",
      "tensor([ 0.1458, -0.1483, -0.4695]) 1.7853981633974483\n",
      "torch.Size([3, 16, 2]) 2 3 0 0 0\n",
      "tensor([ 0.1246, -0.3110, -0.5131]) 1.2146018366025517\n",
      "tensor([ 0.0041, -0.3408, -0.5095]) 2.2146018366025517\n",
      "torch.Size([3, 16, 2]) 4 5 1 2 1\n",
      "tensor([ 0.0052, -0.0040, -0.5425]) 2.7509542276017456\n",
      "tensor([-0.0083,  0.0074, -0.5460]) 3.7509542276017456\n",
      "torch.Size([3, 16, 2]) 0 1 1 -2 -2\n",
      "tensor([ 0.0059,  0.0070, -0.5459]) 0.7853981633974483\n",
      "tensor([    -0.0005,     -0.0040,     -0.5425]) 1.7853981633974483\n",
      "torch.Size([3, 16, 2]) 0 1 1 -2 -1\n",
      "tensor([ 0.0059,  0.0070, -0.5459]) 0.3217505543966422\n",
      "tensor([    -0.0005,     -0.0040,     -0.5425]) 1.3217505543966421\n",
      "torch.Size([3, 16, 2]) 1 2 1 -1 0\n",
      "tensor([    -0.0005,     -0.0040,     -0.5425]) 0.6782494456033579\n",
      "tensor([ 0.0019, -0.0040, -0.5425]) 1.6782494456033579\n",
      "torch.Size([3, 16, 2]) 2 3 1 0 1\n",
      "tensor([ 0.0019, -0.0040, -0.5425]) 1.2146018366025517\n",
      "tensor([ 0.0035, -0.0040, -0.5425]) 2.2146018366025517\n"
     ]
    },
    {
     "data": {
      "text/plain": [
       "tensor([[[[     0.3666,      0.3657,      0.4027,      0.3244],\n",
       "          [     0.3948,      0.4632,      0.3818,      0.3155],\n",
       "          [     0.3588,      0.4055,      0.3706,      0.3059],\n",
       "          [     0.2514,      0.2758,      0.2622,      0.1792]],\n",
       "\n",
       "         [[    -0.0014,     -0.0042,      0.0028,     -0.0022],\n",
       "          [     0.1675,      0.1856,      0.1520,      0.1226],\n",
       "          [     0.3511,      0.4143,      0.3770,      0.3020],\n",
       "          [     0.6134,      0.6975,      0.6345,      0.4714]],\n",
       "\n",
       "         [[     0.2002,     -0.0229,     -0.1372,     -0.3087],\n",
       "          [     0.0964,     -0.1081,     -0.2374,     -0.3948],\n",
       "          [     0.2294,     -0.1141,     -0.3004,     -0.4611],\n",
       "          [     0.2490,     -0.0393,     -0.3344,     -0.5242]]],\n",
       "\n",
       "\n",
       "        [[[     0.0058,      0.0069,      0.0091,      0.0080],\n",
       "          [    -0.2507,     -0.2955,     -0.2608,     -0.1862],\n",
       "          [    -0.3609,     -0.4063,     -0.3722,     -0.3046],\n",
       "          [    -0.3941,     -0.4620,     -0.3809,     -0.3170]],\n",
       "\n",
       "         [[     0.7237,      0.7989,      0.7531,      0.5671],\n",
       "          [     0.6105,      0.6821,      0.6345,      0.4662],\n",
       "          [     0.3538,      0.4145,      0.3751,      0.2991],\n",
       "          [     0.1630,      0.1955,      0.1545,      0.1204]],\n",
       "\n",
       "         [[     0.2848,     -0.0239,     -0.3051,     -0.5190],\n",
       "          [     0.2547,     -0.0538,     -0.3369,     -0.5232],\n",
       "          [     0.2246,     -0.1136,     -0.2984,     -0.4633],\n",
       "          [     0.1043,     -0.1062,     -0.2459,     -0.3923]]],\n",
       "\n",
       "\n",
       "        [[[    -0.3677,     -0.3669,     -0.4038,     -0.3246],\n",
       "          [    -0.3361,     -0.3663,     -0.3632,     -0.3684],\n",
       "          [    -0.2905,     -0.2979,     -0.3656,     -0.2955],\n",
       "          [    -0.1891,     -0.2750,     -0.2031,     -0.1620]],\n",
       "\n",
       "         [[    -0.0004,     -0.0044,      0.0016,     -0.0007],\n",
       "          [    -0.1284,     -0.1513,     -0.1563,     -0.1464],\n",
       "          [    -0.2978,     -0.3130,     -0.3497,     -0.2958],\n",
       "          [    -0.4347,     -0.5507,     -0.4868,     -0.4156]],\n",
       "\n",
       "         [[     0.1997,     -0.0211,     -0.1360,     -0.3099],\n",
       "          [     0.2652,      0.1307,     -0.0153,     -0.1962],\n",
       "          [     0.2377,      0.0666,     -0.1172,     -0.3557],\n",
       "          [     0.1895,      0.0362,     -0.2171,     -0.4988]]],\n",
       "\n",
       "\n",
       "        [[[     0.0019,      0.0009,      0.1857,      0.1063],\n",
       "          [     0.1825,      0.2566,      0.2586,      0.1665],\n",
       "          [     0.2897,      0.2978,      0.3631,      0.2987],\n",
       "          [     0.3356,      0.3649,      0.3624,      0.3674]],\n",
       "\n",
       "         [[    -0.5773,     -0.5662,     -0.5504,     -0.4836],\n",
       "          [    -0.4417,     -0.5552,     -0.4779,     -0.4141],\n",
       "          [    -0.2985,     -0.3122,     -0.3622,     -0.2909],\n",
       "          [    -0.1255,     -0.1537,     -0.1560,     -0.1470]],\n",
       "\n",
       "         [[     0.2235,      0.0981,      0.0359,     -0.2287],\n",
       "          [     0.2174,      0.0553,     -0.2507,     -0.5046],\n",
       "          [     0.2380,      0.0741,     -0.1128,     -0.3476],\n",
       "          [     0.2675,      0.1323,     -0.0156,     -0.1967]]],\n",
       "\n",
       "\n",
       "        [[[     0.3051,      0.3051,     -0.2954,     -0.2709],\n",
       "          [     0.3051,      0.1347,     -0.1202,     -0.1973],\n",
       "          [     0.3051,      0.1347,      0.0997,     -0.0703],\n",
       "          [     0.3051,      0.3051,      0.2725,      0.2057]],\n",
       "\n",
       "         [[     0.0595,      0.0595,     -0.0580,      0.1851],\n",
       "          [     0.0595,      0.0231,      0.0804,      0.3094],\n",
       "          [     0.0595,      0.0231,      0.1508,      0.4470],\n",
       "          [     0.0595,      0.0595,      0.1863,      0.3119]],\n",
       "\n",
       "         [[     0.3879,      0.3879,      0.3918,      0.4539],\n",
       "          [     0.3879,      0.5086,      0.4936,      0.5107],\n",
       "          [     0.3879,      0.5086,      0.4951,      0.5080],\n",
       "          [     0.3879,      0.3879,      0.4512,      0.5047]]],\n",
       "\n",
       "\n",
       "        [[[     0.0027,      0.0027,     -0.0039,     -0.0072],\n",
       "          [     0.0027,      0.1803,     -0.2182,     -0.0080],\n",
       "          [     0.0027,      0.1803,      0.0644,     -0.0015],\n",
       "          [     0.0027,      0.0027,      0.0007,      0.0027]],\n",
       "\n",
       "         [[     0.0015,      0.0015,      0.0056,      0.0054],\n",
       "          [     0.0015,     -0.1233,     -0.0513,      0.0068],\n",
       "          [     0.0015,     -0.1233,     -0.3259,      0.0017],\n",
       "          [     0.0015,      0.0015,     -0.0040,     -0.0040]],\n",
       "\n",
       "         [[    -0.5442,     -0.5442,     -0.5454,     -0.5454],\n",
       "          [    -0.5442,     -0.4464,     -0.4391,     -0.5458],\n",
       "          [    -0.5442,     -0.4464,     -0.5113,     -0.5442],\n",
       "          [    -0.5442,     -0.5442,     -0.5425,     -0.5425]]]])"
      ]
     },
     "execution_count": 55,
     "metadata": {},
     "output_type": "execute_result"
    }
   ],
   "source": [
    "def get_latitudes_angles(n):\n",
    "    return (torch.arange(0, n) * (2 * pi / n)).tolist()\n",
    "\n",
    "def gather_paths(bridge, latitudes_num):    \n",
    "    latitude_angles = get_latitudes_angles(latitudes_num)        \n",
    "    latitudes = make_latitudes(latitudes_num)\n",
    "    face_id, point, normal = get_start(bridge.mesh)\n",
    "    paths = OrderedDict([])\n",
    "    for i, (latitude, latitude_angle) in enumerate(zip(latitudes, latitude_angles)):\n",
    "        print(i, latitudes_num)\n",
    "        path = gather_path(latitude, face_id, point, normal, bridge)\n",
    "        paths[latitude_angle] = path\n",
    "    return paths\n",
    "\n",
    "def sample_all_paths(paths, samples_num):\n",
    "    all_samples = []\n",
    "    for path in paths.values():\n",
    "        path_samples =  sample_path(path, samples_num)        \n",
    "        all_samples.append(path_samples)\n",
    "\n",
    "    res_points = np.array([p['points'] for p in all_samples])\n",
    "    res_normals = np.array([p['normals'] for p in all_samples])\n",
    "\n",
    "    assert res_points.shape ==  res_normals.shape\n",
    "    n, h = len(paths) // 2, len(res_points) // 2        \n",
    "    return (torch.tensor(res_points).permute(2, 0, 1).float(), \n",
    "            torch.tensor(res_normals).permute(2, 0, 1).float())\n",
    "\n",
    "def square_from_index(side_size, points, angles, i, j):   \n",
    "    half_side = side_size // 2\n",
    "    x = i+0.5-half_side\n",
    "    y = j+0.5-half_side\n",
    "    angle = atan2(y, x)\n",
    "    angle_keys = angles\n",
    "    for i, angle_key in enumerate(angle_keys):\n",
    "        if angle <= angle_key:\n",
    "            first_key = i % len(angle_keys)\n",
    "            second_key = (i+1) % len(angle_keys)\n",
    "            square = max(floor(abs(x)), floor(abs(y)))\n",
    "            print(points.shape, first_key, second_key, square, i-half_side , j-half_side)\n",
    "            first = points[:, first_key, square]\n",
    "            second = points[:, second_key, square]\n",
    "            \n",
    "            first_dist = abs(angle - first_key) \n",
    "            second_dist = abs(angle - second_key)\n",
    "            print(first, first_dist)\n",
    "            print(second, second_dist)\n",
    "            #return (first*second_dist + second*first_dist) / (first_dist+second_dist)\n",
    "            return (first + second) / 2\n",
    "    raise Exception('Unknown angle', angle)\n",
    "\n",
    "    \n",
    "def get_side(side_size, points, angles, top=True):\n",
    "    points = points if top else points.flip(dims=(1,))\n",
    "    res = torch.zeros(3, side_size, side_size) + 100\n",
    "    for i in range(side_size):\n",
    "        for j in range(side_size):\n",
    "            res[:, i, j] =  square_from_index(side_size, points, angles, i, j)\n",
    "    return res\n",
    "\n",
    "def fill_cube(bridge, side_size): \n",
    "    latitudes_num = 4 * side_size\n",
    "    cube_t =  torch.zeros(6, 3, side_size, side_size)\n",
    "    samples_num = 2 * side_size\n",
    "    paths =  gather_paths(bridge, latitudes_num)\n",
    "    points, normals = sample_all_paths(paths, samples_num)\n",
    "    #'front' 'right' 'back' 'left' 'top'  'down'\n",
    "    half_side = side_size // 2\n",
    "    cube_t[0] = points[:, 0*side_size:1*side_size, half_side: half_side + side_size]\n",
    "    cube_t[1] = points[:, 1*side_size:2*side_size, half_side: half_side + side_size]\n",
    "    cube_t[2] = points[:, 2*side_size:3*side_size, half_side: half_side + side_size]\n",
    "    cube_t[3] = points[:, 3*side_size:4*side_size, half_side: half_side + side_size]    \n",
    "    \n",
    "    top_points = points[:, :, :half_side]\n",
    "    down_points = points[:, :, -half_side:]\n",
    "    print(top_points.shape, down_points.shape)\n",
    "    angles = list(paths.keys())\n",
    "    cube_t[4] = get_side(side_size, top_points, angles, top=True)    \n",
    "    cube_t[5] = get_side(side_size, down_points, angles, top=False)        \n",
    "#     cube_t[2] = get_side(side_size, top_points, angles, top=True)    \n",
    "#     cube_t[3] = get_side(side_size, down_points, angles, top=False)        \n",
    "    return cube_t\n",
    "\n",
    "\n",
    "\n",
    "\n",
    "root = './data/heads/'\n",
    "# root = '/home/bobi/Desktop/stl_face_corrected/'\n",
    "stl_path = root+'centered_3_repaired.stl'\n",
    "print(stl_path)\n",
    "bridge = Bridge(stl_path, offset=0.2)\n",
    "bridge\n",
    "\n",
    "filled = fill_cube(bridge, 4)\n",
    "filled"
   ]
  },
  {
   "cell_type": "code",
   "execution_count": 57,
   "metadata": {},
   "outputs": [
    {
     "data": {
      "application/vnd.jupyter.widget-view+json": {
       "model_id": "5960dfe7776341eebd228b30ca9164b3",
       "version_major": 2,
       "version_minor": 0
      },
      "text/plain": [
       "Renderer(camera=PerspectiveCamera(children=(DirectionalLight(color='white', intensity=0.6, position=(0.0284468…"
      ]
     },
     "metadata": {},
     "output_type": "display_data"
    }
   ],
   "source": [
    "def show(vertices, faces=None):\n",
    "    vertices, faces = [vertices.cpu().float(), faces.cpu()]\n",
    "    if len(list(vertices.shape)) == 4:\n",
    "        vertices = to_vertices(vertices).detach().numpy()\n",
    "    if faces is not None:\n",
    "        meshplot.plot(vertices.numpy(), faces.numpy())\n",
    "    else:\n",
    "        meshplot.plot(vertices.numpy())\n",
    "        \n",
    "faces  = make_sides(4)       \n",
    "show(to_vertices(avg_border(filled)), faces)"
   ]
  },
  {
   "cell_type": "code",
   "execution_count": 58,
   "metadata": {},
   "outputs": [
    {
     "data": {
      "application/vnd.jupyter.widget-view+json": {
       "model_id": "71a2b8a1476d46a18cb2a6b1abc80ceb",
       "version_major": 2,
       "version_minor": 0
      },
      "text/plain": [
       "Renderer(camera=PerspectiveCamera(children=(DirectionalLight(color='white', intensity=0.6, position=(0.0005960…"
      ]
     },
     "metadata": {},
     "output_type": "display_data"
    }
   ],
   "source": [
    "show(to_vertices(filled), faces)"
   ]
  },
  {
   "cell_type": "code",
   "execution_count": 5,
   "metadata": {},
   "outputs": [],
   "source": [
    "import trimesh "
   ]
  },
  {
   "cell_type": "code",
   "execution_count": 10,
   "metadata": {},
   "outputs": [],
   "source": [
    "mesh = trimesh.Trimesh(vertices=to_vertices(filled), faces=faces);\n"
   ]
  },
  {
   "cell_type": "code",
   "execution_count": 12,
   "metadata": {},
   "outputs": [],
   "source": [
    "mesh.export('./m1.stl');"
   ]
  },
  {
   "cell_type": "code",
   "execution_count": null,
   "metadata": {},
   "outputs": [],
   "source": [
    "f2 = filled.clone()\n",
    "\n",
    "f2[4] = filled[4].permute(0, 2, 1)\n",
    "#f2[5] = filled[5].permute(0, 2, 1)\n",
    "f2[5] = torch.zeros_like(filled[4])\n",
    "show(to_vertices(f2), faces)"
   ]
  },
  {
   "cell_type": "code",
   "execution_count": null,
   "metadata": {},
   "outputs": [],
   "source": [
    "filled[5].permute(3.shape"
   ]
  },
  {
   "cell_type": "code",
   "execution_count": null,
   "metadata": {},
   "outputs": [],
   "source": [
    "from itertools import permutations\n",
    "\n",
    "ps =list(permutations(range(6), 6))\n",
    "len(ps)"
   ]
  },
  {
   "cell_type": "code",
   "execution_count": 31,
   "metadata": {
    "scrolled": true
   },
   "outputs": [
    {
     "name": "stdout",
     "output_type": "stream",
     "text": [
      "0 8\n",
      "1 8\n",
      "2 8\n",
      "3 8\n",
      "4 8\n",
      "5 8\n",
      "6 8\n",
      "7 8\n",
      "torch.Size([3, 8, 1]) torch.Size([3, 8, 1])\n",
      "torch.Size([3, 8, 1]) 0 1 0 -1 -1\n",
      "tensor([ 0.3152, -0.0024,  0.3752]) 2.356194490192345\n",
      "tensor([0.2501, 0.2512, 0.5018]) 3.356194490192345\n",
      "torch.Size([3, 8, 1]) 3 4 0 2 0\n",
      "tensor([-0.2506,  0.2511,  0.5016]) 0.6438055098076552\n",
      "tensor([-0.3159, -0.0016,  0.3750]) 1.6438055098076552\n",
      "torch.Size([3, 8, 1]) 0 1 0 -1 -1\n",
      "tensor([ 0.3152, -0.0024,  0.3752]) 0.7853981633974483\n",
      "tensor([0.2501, 0.2512, 0.5018]) 1.7853981633974483\n",
      "torch.Size([3, 8, 1]) 1 2 0 0 0\n",
      "tensor([0.2501, 0.2512, 0.5018]) 0.21460183660255172\n",
      "tensor([0.0035, 0.5263, 0.4961]) 1.2146018366025517\n",
      "torch.Size([3, 8, 1]) 0 1 0 -1 -1\n",
      "tensor([    -0.0005,     -0.0040,     -0.5425]) 2.356194490192345\n",
      "tensor([ 0.0035, -0.0040, -0.5425]) 3.356194490192345\n",
      "torch.Size([3, 8, 1]) 3 4 0 2 0\n",
      "tensor([-0.0068,  0.0047, -0.5452]) 0.6438055098076552\n",
      "tensor([-0.0022,  0.0088, -0.5464]) 1.6438055098076552\n",
      "torch.Size([3, 8, 1]) 0 1 0 -1 -1\n",
      "tensor([    -0.0005,     -0.0040,     -0.5425]) 0.7853981633974483\n",
      "tensor([ 0.0035, -0.0040, -0.5425]) 1.7853981633974483\n",
      "torch.Size([3, 8, 1]) 1 2 0 0 0\n",
      "tensor([ 0.0035, -0.0040, -0.5425]) 0.21460183660255172\n",
      "tensor([-0.0083,  0.0074, -0.5460]) 1.2146018366025517\n"
     ]
    }
   ],
   "source": [
    "\n",
    "side_size = 2    \n",
    "latitudes_num = 4 * side_size\n",
    "cube_t =  torch.zeros(6, 3, side_size, side_size)\n",
    "samples_num = 2 * side_size\n",
    "paths =  gather_paths(bridge, latitudes_num)\n",
    "points, normals = sample_all_paths(paths, samples_num)\n",
    "#'front' 'right' 'back' 'left' 'top'  'down'\n",
    "half_side = side_size // 2\n",
    "cube_t[0] = points[:, 0*side_size:1*side_size, half_side: half_side + side_size]\n",
    "cube_t[1] = points[:, 1*side_size:2*side_size, half_side: half_side + side_size]\n",
    "cube_t[2] = points[:, 2*side_size:3*side_size, half_side: half_side + side_size]\n",
    "cube_t[3] = points[:, 3*side_size:4*side_size, half_side: half_side + side_size]    \n",
    "\n",
    "top_points = points[:, :, :half_side]\n",
    "down_points = points[:, :, -half_side:]\n",
    "print(top_points.shape, down_points.shape)\n",
    "angles = list(paths.keys())\n",
    "cube_t[4] = get_side(side_size, top_points, angles, top=True)    \n",
    "cube_t[5] = get_side(side_size, down_points, angles, top=False)        \n"
   ]
  },
  {
   "cell_type": "code",
   "execution_count": 34,
   "metadata": {},
   "outputs": [
    {
     "name": "stdout",
     "output_type": "stream",
     "text": [
      "points.shape  first_key, second_key [3, 8, 1] 0 1\n",
      "square, i-half_side , j-half_side 0 -1 -1\n",
      "tensor([ 0.3152, -0.0024,  0.3752]) 2.356194490192345\n",
      "tensor([0.2501, 0.2512, 0.5018]) 3.356194490192345\n",
      "points.shape  first_key, second_key [3, 8, 1] 3 4\n",
      "square, i-half_side , j-half_side 0 2 0\n",
      "tensor([-0.2506,  0.2511,  0.5016]) 0.6438055098076552\n",
      "tensor([-0.3159, -0.0016,  0.3750]) 1.6438055098076552\n",
      "points.shape  first_key, second_key [3, 8, 1] 0 1\n",
      "square, i-half_side , j-half_side 0 -1 -1\n",
      "tensor([ 0.3152, -0.0024,  0.3752]) 0.7853981633974483\n",
      "tensor([0.2501, 0.2512, 0.5018]) 1.7853981633974483\n",
      "points.shape  first_key, second_key [3, 8, 1] 1 2\n",
      "square, i-half_side , j-half_side 0 0 0\n",
      "tensor([0.2501, 0.2512, 0.5018]) 0.21460183660255172\n",
      "tensor([0.0035, 0.5263, 0.4961]) 1.2146018366025517\n",
      "torch.Size([3, 2, 2])\n"
     ]
    },
    {
     "data": {
      "text/plain": [
       "tensor([[[ 0.2827, -0.2833],\n",
       "         [ 0.2827,  0.1268]],\n",
       "\n",
       "        [[ 0.1244,  0.1248],\n",
       "         [ 0.1244,  0.3888]],\n",
       "\n",
       "        [[ 0.4385,  0.4383],\n",
       "         [ 0.4385,  0.4990]]])"
      ]
     },
     "execution_count": 34,
     "metadata": {},
     "output_type": "execute_result"
    }
   ],
   "source": [
    "def square_from_index(side_size, points, angles, i, j):   \n",
    "    half_side = side_size // 2\n",
    "    x = i+0.5-half_side\n",
    "    y = j+0.5-half_side\n",
    "    angle = atan2(y, x)\n",
    "    angle_keys = angles\n",
    "    for i, angle_key in enumerate(angle_keys):\n",
    "        if angle <= angle_key:\n",
    "            first_key = i % len(angle_keys)\n",
    "            second_key = (i+1) % len(angle_keys)\n",
    "            square = max(floor(abs(x)), floor(abs(y)))\n",
    "            print('points.shape  first_key, second_key', list(points.shape), first_key, second_key)\n",
    "            print('square, i-half_side , j-half_side', square, i-half_side , j-half_side)\n",
    "            first = points[:, first_key, square]\n",
    "            second = points[:, second_key, square]\n",
    "            \n",
    "            first_dist = abs(angle - first_key) \n",
    "            second_dist = abs(angle - second_key)\n",
    "            print(first, first_dist)\n",
    "            print(second, second_dist)\n",
    "            return (first + second) / 2 #(first*second_dist + second*first_dist) / (first_dist+second_dist)\n",
    "    raise Exception('Unknown angle', angle)\n",
    "    \n",
    "def get_side(side_size, points, angles, top=True):\n",
    "    points = points if top else points.flip(dims=(1,))\n",
    "    res = torch.zeros(3, side_size, side_size) + 100\n",
    "    for i in range(side_size):\n",
    "        for j in range(side_size):\n",
    "            res[:, i, j] =  square_from_index(side_size, points, angles, i, j)\n",
    "    return res\n",
    "\n",
    "top_side = get_side(side_size, top_points.float(), angles, top=True)    \n",
    "print(top_side.shape)\n",
    "top_side"
   ]
  },
  {
   "cell_type": "code",
   "execution_count": 40,
   "metadata": {},
   "outputs": [
    {
     "data": {
      "application/vnd.jupyter.widget-view+json": {
       "model_id": "10fb6dfdd3294e0b97ed1a05265e361a",
       "version_major": 2,
       "version_minor": 0
      },
      "text/plain": [
       "Renderer(camera=PerspectiveCamera(children=(DirectionalLight(color='white', intensity=0.6, position=(-0.000298…"
      ]
     },
     "metadata": {},
     "output_type": "display_data"
    }
   ],
   "source": [
    "top_side.shape\n",
    "\n",
    "show(top_side.permute(1, 2, 0).reshape(-1, 3), torch.tensor(make_faces(2, 2)))"
   ]
  },
  {
   "cell_type": "code",
   "execution_count": 41,
   "metadata": {},
   "outputs": [
    {
     "data": {
      "text/plain": [
       "array([[2, 0, 3],\n",
       "       [1, 3, 0]])"
      ]
     },
     "execution_count": 41,
     "metadata": {},
     "output_type": "execute_result"
    }
   ],
   "source": [
    "make_faces(2, 2)"
   ]
  },
  {
   "cell_type": "code",
   "execution_count": 49,
   "metadata": {},
   "outputs": [
    {
     "data": {
      "application/vnd.jupyter.widget-view+json": {
       "model_id": "c57e7d1226824f81b33bf3d0d9cd958f",
       "version_major": 2,
       "version_minor": 0
      },
      "text/plain": [
       "Renderer(camera=PerspectiveCamera(children=(DirectionalLight(color='white', intensity=0.6, position=(-0.001487…"
      ]
     },
     "metadata": {},
     "output_type": "display_data"
    }
   ],
   "source": [
    "cube_t[0].shape\n",
    "show(cube_t[5].permute(1, 2, 0).reshape(-1, 3), torch.tensor(make_faces(2, 2)))"
   ]
  },
  {
   "cell_type": "code",
   "execution_count": 50,
   "metadata": {},
   "outputs": [
    {
     "data": {
      "text/plain": [
       "tensor([[[ 0.0015, -0.0045],\n",
       "         [ 0.0015, -0.0024]],\n",
       "\n",
       "        [[-0.0040,  0.0068],\n",
       "         [-0.0040,  0.0017]],\n",
       "\n",
       "        [[-0.5425, -0.5458],\n",
       "         [-0.5425, -0.5442]]])"
      ]
     },
     "execution_count": 50,
     "metadata": {},
     "output_type": "execute_result"
    }
   ],
   "source": [
    "cube_t[5]"
   ]
  },
  {
   "cell_type": "code",
   "execution_count": 52,
   "metadata": {},
   "outputs": [
    {
     "data": {
      "text/plain": [
       "torch.Size([3, 8, 1])"
      ]
     },
     "execution_count": 52,
     "metadata": {},
     "output_type": "execute_result"
    }
   ],
   "source": [
    "down_points.shape"
   ]
  },
  {
   "cell_type": "code",
   "execution_count": 53,
   "metadata": {},
   "outputs": [
    {
     "data": {
      "text/plain": [
       "torch.Size([3, 8, 1])"
      ]
     },
     "execution_count": 53,
     "metadata": {},
     "output_type": "execute_result"
    }
   ],
   "source": [
    "top_points.shape"
   ]
  },
  {
   "cell_type": "code",
   "execution_count": null,
   "metadata": {},
   "outputs": [],
   "source": []
  }
 ],
 "metadata": {
  "kernelspec": {
   "display_name": "Python [conda env:conjure] *",
   "language": "python",
   "name": "conda-env-conjure-py"
  },
  "language_info": {
   "codemirror_mode": {
    "name": "ipython",
    "version": 3
   },
   "file_extension": ".py",
   "mimetype": "text/x-python",
   "name": "python",
   "nbconvert_exporter": "python",
   "pygments_lexer": "ipython3",
   "version": "3.7.11"
  }
 },
 "nbformat": 4,
 "nbformat_minor": 2
}

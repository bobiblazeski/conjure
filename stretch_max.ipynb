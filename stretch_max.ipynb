{
 "cells": [
  {
   "cell_type": "code",
   "execution_count": 1,
   "metadata": {},
   "outputs": [],
   "source": [
    "import torch\n",
    "import torch.nn as nn\n",
    "import torch.nn.functional as F\n",
    "\n",
    "\n",
    "import matplotlib.pyplot as plt\n",
    "\n",
    "from src.shared.sides import sphered_vertices\n",
    "# for i in range(10000):\n",
    "#     #compute the predictions    \n",
    "#     preds = model(inputs) \n",
    "#     #compute the loss   \n",
    "#     loss = loss_fn(preds, targets) \n",
    "#     # calculate the gradients   \n",
    "#     loss.backward()    \n",
    "#     with torch.no_grad():        \n",
    "#         weight -= weight.grad * 1e-7        \n",
    "#         bias -= bias.grad * 1e-7        \n",
    "#         weight.grad.zero_()        \n",
    "#         bias.grad.zero_()"
   ]
  },
  {
   "cell_type": "code",
   "execution_count": 9,
   "metadata": {
    "scrolled": true
   },
   "outputs": [
    {
     "data": {
      "text/plain": [
       "(tensor([[[3.6261, 3.6261],\n",
       "          [3.6261, 3.6261]]]), tensor([[[2.2465, 2.2465],\n",
       "          [2.2465, 2.2465]]]))"
      ]
     },
     "execution_count": 9,
     "metadata": {},
     "output_type": "execute_result"
    }
   ],
   "source": [
    "# Need to fix diagonals\n",
    "# Probably multiply  with conv\n",
    "# 0 1 0\n",
    "# 1 0 1\n",
    "# 0 1 0\n",
    "\n",
    "\n",
    "mxd, mnd, hd = max_dist(torch.randn(1, 3, 2, 2))\n",
    "mxd, mnd"
   ]
  },
  {
   "cell_type": "code",
   "execution_count": 10,
   "metadata": {},
   "outputs": [
    {
     "data": {
      "text/plain": [
       "torch.Size([1, 2, 2])"
      ]
     },
     "execution_count": 10,
     "metadata": {},
     "output_type": "execute_result"
    }
   ],
   "source": [
    "hd.shape"
   ]
  },
  {
   "cell_type": "code",
   "execution_count": 6,
   "metadata": {},
   "outputs": [
    {
     "data": {
      "text/plain": [
       "torch.Size([6, 3, 2, 2])"
      ]
     },
     "execution_count": 6,
     "metadata": {},
     "output_type": "execute_result"
    }
   ],
   "source": [
    "# hd\n",
    "# 0 1 2 3\n",
    "# 1\n",
    "# 2\n",
    "# 3\n",
    "v = sphered_vertices(2, 0.5)\n",
    "v.shape"
   ]
  },
  {
   "cell_type": "code",
   "execution_count": 8,
   "metadata": {
    "scrolled": true
   },
   "outputs": [
    {
     "name": "stdout",
     "output_type": "stream",
     "text": [
      "tensor([[[0.4082, 0.4082],\n",
      "         [0.4082, 0.4082]],\n",
      "\n",
      "        [[0.4082, 0.4082],\n",
      "         [0.4082, 0.4082]],\n",
      "\n",
      "        [[0.4082, 0.4082],\n",
      "         [0.4082, 0.4082]],\n",
      "\n",
      "        [[0.4082, 0.4082],\n",
      "         [0.4082, 0.4082]],\n",
      "\n",
      "        [[0.4082, 0.4082],\n",
      "         [0.4082, 0.4082]],\n",
      "\n",
      "        [[0.4082, 0.4082],\n",
      "         [0.4082, 0.4082]]])\n",
      "tensor([[[0.4082, 0.4082],\n",
      "         [0.4082, 0.4082]],\n",
      "\n",
      "        [[0.4082, 0.4082],\n",
      "         [0.4082, 0.4082]],\n",
      "\n",
      "        [[0.4082, 0.4082],\n",
      "         [0.4082, 0.4082]],\n",
      "\n",
      "        [[0.4082, 0.4082],\n",
      "         [0.4082, 0.4082]],\n",
      "\n",
      "        [[0.4082, 0.4082],\n",
      "         [0.4082, 0.4082]],\n",
      "\n",
      "        [[0.4082, 0.4082],\n",
      "         [0.4082, 0.4082]]])\n"
     ]
    }
   ],
   "source": [
    "mxd, mnd = max_dist(v)\n",
    "print(mxd)\n",
    "print(mnd)"
   ]
  },
  {
   "cell_type": "code",
   "execution_count": 13,
   "metadata": {},
   "outputs": [],
   "source": [
    "conv = nn.Conv2d(3, 3, 3, \n",
    "            stride=1, padding=0, bias=False, groups=3)\n",
    "\n",
    "w = torch.tensor([[ 0., 1., 0.],\n",
    "                  [ 1., 1., 1.],\n",
    "                  [ 0., 1., 0.],])\n",
    "for _, f in conv.named_parameters():           \n",
    "    f.data.copy_(w)\n",
    "conv.weight"
   ]
  },
  {
   "cell_type": "code",
   "execution_count": 14,
   "metadata": {},
   "outputs": [
    {
     "data": {
      "text/plain": [
       "Parameter containing:\n",
       "tensor([[[[0., 1., 0.],\n",
       "          [1., 1., 1.],\n",
       "          [0., 1., 0.]]],\n",
       "\n",
       "\n",
       "        [[[0., 1., 0.],\n",
       "          [1., 1., 1.],\n",
       "          [0., 1., 0.]]],\n",
       "\n",
       "\n",
       "        [[[0., 1., 0.],\n",
       "          [1., 1., 1.],\n",
       "          [0., 1., 0.]]]], requires_grad=True)"
      ]
     },
     "execution_count": 14,
     "metadata": {},
     "output_type": "execute_result"
    }
   ],
   "source": [
    "class Distances(nn.Module):\n",
    "    def __init__(self):\n",
    "        super(Distances, self).__init__()\n",
    "        self.conv = nn.Conv2d(3, 3, 3, stride=1,\n",
    "            padding=1, bias=False, groups=3)\n",
    "        self.weights_init()\n",
    "\n",
    "    \n",
    "    \n",
    "    def forward(self, x):\n",
    "        return self.seq(x).abs().mean()\n",
    "\n",
    "    def weights_init(self):\n",
    "        w = torch.tensor([[ 0., 1., 0.],\n",
    "                          [ 1., 1., 1.],\n",
    "                          [ 0., 1., 0.],])\n",
    "        for _, f in self.named_parameters():           \n",
    "            f.data.copy_(w)\n"
   ]
  },
  {
   "cell_type": "code",
   "execution_count": 17,
   "metadata": {},
   "outputs": [
    {
     "data": {
      "text/plain": [
       "torch.Size([3, 1, 3, 1])"
      ]
     },
     "execution_count": 17,
     "metadata": {},
     "output_type": "execute_result"
    }
   ],
   "source": [
    "conv = nn.Conv2d(3, 3, kernel_size=(3, 1), \n",
    "            stride=1, padding=0, bias=False, groups=3)\n",
    "conv.weight.shape"
   ]
  },
  {
   "cell_type": "code",
   "execution_count": 31,
   "metadata": {
    "scrolled": true
   },
   "outputs": [
    {
     "name": "stdout",
     "output_type": "stream",
     "text": [
      "tensor([[[3.6284, 3.6284, 3.6284, 3.4122],\n",
      "         [3.4133, 3.0668, 3.7784, 3.7784],\n",
      "         [3.4133, 3.0668, 3.2177, 2.7116],\n",
      "         [3.4133, 3.0668, 3.2177, 2.7116]]])\n",
      "tensor([[[1.8303, 2.4891, 1.1815, 1.1815],\n",
      "         [1.8303, 2.4609, 2.0027, 2.0350],\n",
      "         [1.8303, 1.4759, 1.5877, 1.5794],\n",
      "         [1.8711, 1.4759, 1.8711, 1.5794]]])\n"
     ]
    }
   ],
   "source": [
    "def distances(x):\n",
    "    with torch.no_grad():\n",
    "        n = x.size(-1)\n",
    "        hd = x[:, :, 1:, :] - x[:, :, :-1, :]\n",
    "        hd = hd.pow(2).sum(dim=1).sqrt()\n",
    "        hd = torch.cat((hd[:, 0:1, :], hd), dim=1)        \n",
    "        hdmx = F.max_pool2d(hd, kernel_size=(3, 1), stride=1, padding=(1, 0))\n",
    "        hdmn = -F.max_pool2d(-hd, kernel_size=(3, 1), stride=1, padding=(1, 0))\n",
    "\n",
    "        vd = x[:, :, :, 1:] - x[:, :, :, :-1]\n",
    "        vd = vd.pow(2).sum(dim=1).sqrt()\n",
    "        vd = torch.cat((vd[:, :, 0:1], vd), dim=2)        \n",
    "        vdmx = F.max_pool2d(vd, kernel_size=(1, 3), stride=1, padding=(0, 1))\n",
    "        vdmn = -F.max_pool2d(-vd, kernel_size=(1, 3), stride=1, padding=(0, 1))\n",
    "\n",
    "        mxd = torch.where(hdmx > vdmx, hdmx, vdmx)\n",
    "        mnd = torch.where(hdmn < vdmn, hdmn, vdmn)\n",
    "        return mxd, mnd\n",
    "    \n",
    "mxd, mnd = distances(torch.randn(1, 3, 4, 4))\n",
    "#mxd, mnd, hd = max_dist(torch.randn(1, 3, 2, 2))\n",
    "#mxd, mnd    \n",
    "print(mxd)\n",
    "print(mnd)"
   ]
  },
  {
   "cell_type": "code",
   "execution_count": 24,
   "metadata": {},
   "outputs": [
    {
     "data": {
      "text/plain": [
       "torch.Size([1, 2, 2])"
      ]
     },
     "execution_count": 24,
     "metadata": {},
     "output_type": "execute_result"
    }
   ],
   "source": [
    "F.max_pool2d(hd, kernel_size=(3, 1), stride=1, padding=(1, 0)).shape"
   ]
  },
  {
   "cell_type": "code",
   "execution_count": 32,
   "metadata": {},
   "outputs": [
    {
     "data": {
      "text/plain": [
       "120.52106374124477"
      ]
     },
     "execution_count": 32,
     "metadata": {},
     "output_type": "execute_result"
    }
   ],
   "source": [
    "import numpy as np\n",
    "\n",
    "a = np.array([32.49, -39.96,-3.86])\n",
    "b = np.array([31.39, -39.28, -4.66])\n",
    "c = np.array([31.14, -38.09,-4.49])\n",
    "\n",
    "ba = a - b\n",
    "bc = c - b\n",
    "\n",
    "cosine_angle = np.dot(ba, bc) / (np.linalg.norm(ba) * np.linalg.norm(bc))\n",
    "angle = np.arccos(cosine_angle)\n",
    "\n",
    "np.degrees(angle)"
   ]
  },
  {
   "cell_type": "code",
   "execution_count": 35,
   "metadata": {},
   "outputs": [
    {
     "data": {
      "text/plain": [
       "tensor(120.5211)"
      ]
     },
     "execution_count": 35,
     "metadata": {},
     "output_type": "execute_result"
    }
   ],
   "source": [
    "\n",
    "a = torch.tensor([32.49, -39.96,-3.86])\n",
    "b = torch.tensor([31.39, -39.28, -4.66])\n",
    "c = torch.tensor([31.14, -38.09,-4.49])\n",
    "\n",
    "ba = a - b\n",
    "bc = c - b\n",
    "\n",
    "cosine_angle = torch.dot(ba, bc) / (torch.linalg.norm(ba) * torch.linalg.norm(bc))\n",
    "angle = torch.arccos(cosine_angle)\n",
    "\n",
    "torch.rad2deg(angle)"
   ]
  },
  {
   "cell_type": "code",
   "execution_count": 36,
   "metadata": {},
   "outputs": [
    {
     "data": {
      "text/plain": [
       "(torch.Size([6, 3, 4, 4]), torch.Size([6, 3, 4, 4]))"
      ]
     },
     "execution_count": 36,
     "metadata": {},
     "output_type": "execute_result"
    }
   ],
   "source": [
    "a, b, c = torch.randn(6, 3, 4, 4), torch.randn(6, 3, 4, 4), torch.randn(6, 3, 4, 4)\n",
    "ba = a - b\n",
    "bc = c - b\n",
    "ba.shape,  bc.shape"
   ]
  },
  {
   "cell_type": "code",
   "execution_count": 38,
   "metadata": {},
   "outputs": [
    {
     "data": {
      "text/plain": [
       "torch.Size([6, 3, 4, 4])"
      ]
     },
     "execution_count": 38,
     "metadata": {},
     "output_type": "execute_result"
    }
   ],
   "source": [
    "dot = ba * bc\n",
    "dot.shape"
   ]
  },
  {
   "cell_type": "code",
   "execution_count": 44,
   "metadata": {},
   "outputs": [
    {
     "data": {
      "text/plain": [
       "torch.Size([6, 3, 4, 4])"
      ]
     },
     "execution_count": 44,
     "metadata": {},
     "output_type": "execute_result"
    }
   ],
   "source": [
    "\n",
    "cos_angle.shape"
   ]
  },
  {
   "cell_type": "code",
   "execution_count": 46,
   "metadata": {
    "scrolled": true
   },
   "outputs": [
    {
     "data": {
      "text/plain": [
       "tensor([[[[ 54.5833,  43.7095,  22.2166, 107.4582],\n",
       "          [ 70.2230,  92.3000, 115.3340,  85.8464],\n",
       "          [110.8317,  94.3133,  90.8866,  76.6120],\n",
       "          [ 81.1190,  52.5785,  81.2940,  82.9476]],\n",
       "\n",
       "         [[107.9911,  78.7944,  86.5459,  84.1042],\n",
       "          [ 62.4340,  52.7505,  90.1965,  41.7930],\n",
       "          [ 68.5803, 126.5247, 113.9567,  90.0513],\n",
       "          [ 82.5215,  82.4468,  49.2231,  74.6128]],\n",
       "\n",
       "         [[ 91.0299,  90.3734,  89.5175,  69.1811],\n",
       "          [ 91.8565,  77.1799,  81.8335,  90.1359],\n",
       "          [ 98.2441, 100.1359,  58.1367, 118.7322],\n",
       "          [ 62.6941,  80.1737,  96.6341,  58.6585]]],\n",
       "\n",
       "\n",
       "        [[[ 82.1992,  86.1070, 108.4879,  85.3625],\n",
       "          [ 91.5687, 116.9693,  91.3344,  35.5550],\n",
       "          [ 97.6212,  67.7274,  98.2771, 118.1585],\n",
       "          [124.0369,  92.6306,  91.1320, 117.8011]],\n",
       "\n",
       "         [[ 82.8775,  84.0063,  99.0044,  35.1682],\n",
       "          [103.5373,  94.6409,  26.6277,  88.6885],\n",
       "          [127.0545,  53.1233,  78.5858,  79.6933],\n",
       "          [ 84.8112,  84.5140,  95.2364,  72.8235]],\n",
       "\n",
       "         [[ 81.8830,  46.2307,  82.5296,  92.9178],\n",
       "          [128.3871,  86.7830,  87.5036,  87.3913],\n",
       "          [ 85.8285,  89.2096,  97.0393,  73.2113],\n",
       "          [ 72.6421,  32.5298,  85.5201,  95.0784]]],\n",
       "\n",
       "\n",
       "        [[[ 87.2151,  83.3463,  99.2135,  76.3249],\n",
       "          [ 97.7806,  66.2288,  78.7121,  52.6753],\n",
       "          [ 90.4911,  86.6295,  74.7956,  71.4833],\n",
       "          [ 87.6054,  76.5834,  56.5323,  53.6123]],\n",
       "\n",
       "         [[ 78.3204,  92.7645,  72.0875,  88.3231],\n",
       "          [ 90.2308,  65.4825,  48.6546,  78.4327],\n",
       "          [ 85.2973,  46.1023,  90.1830,  86.8814],\n",
       "          [ 91.8677,  91.3536,  89.9671,  89.9913]],\n",
       "\n",
       "         [[104.1281, 101.9974,  68.8851,  80.5942],\n",
       "          [ 54.3386,  88.0173,  89.2743,  99.0933],\n",
       "          [ 37.1900, 100.4629,  66.1773, 122.6922],\n",
       "          [ 24.1685, 133.6616,  97.2469, 111.6604]]],\n",
       "\n",
       "\n",
       "        [[[ 93.0637,  91.4864,  87.3679,  28.1868],\n",
       "          [ 99.2702, 102.8451,  71.8886, 105.7326],\n",
       "          [ 54.4034,  32.9701,  88.0710,  86.5029],\n",
       "          [104.5809,  79.9868,  76.3442, 105.0796]],\n",
       "\n",
       "         [[ 68.7291,  61.3246,  73.3514,  85.5050],\n",
       "          [ 89.4952,  63.5318,  80.5264,  75.4588],\n",
       "          [ 93.1949,  94.5893,  27.7674,  95.8640],\n",
       "          [ 81.3031,  97.9433,  71.9260,  91.5107]],\n",
       "\n",
       "         [[ 86.9504, 109.3275, 125.9908,  91.5817],\n",
       "          [ 90.6823,  72.1363,  85.3492, 108.3931],\n",
       "          [ 70.2705,  87.7010,  88.4042, 103.5790],\n",
       "          [ 87.3688,  99.8358,  64.7774,  50.3078]]],\n",
       "\n",
       "\n",
       "        [[[ 88.4457,  63.9965,  89.3188, 103.8110],\n",
       "          [ 84.1055, 107.8210,  90.0098,  21.1678],\n",
       "          [ 87.2257, 105.7146,  59.4832,  73.9152],\n",
       "          [ 64.6705,  33.8975,  90.1106,  90.3269]],\n",
       "\n",
       "         [[ 82.0364,  69.6860,  18.4803,  84.1161],\n",
       "          [ 42.3731,  80.1580,  96.0195,  88.3542],\n",
       "          [ 50.9150,  76.1552, 100.2068,  77.3325],\n",
       "          [ 89.3370,  83.9918,  53.0046,  90.8436]],\n",
       "\n",
       "         [[ 34.0892,  81.7724,  90.1010,  95.2154],\n",
       "          [ 81.7517, 109.8376,  39.9117,  89.5683],\n",
       "          [ 75.5166,  74.8058,  82.6527,  76.4680],\n",
       "          [ 56.7689,  88.5628,  68.9673,  14.9784]]],\n",
       "\n",
       "\n",
       "        [[[ 68.2219,  53.9921,  95.1766,  67.2136],\n",
       "          [ 71.1900,  56.8949,  93.5022,  84.5704],\n",
       "          [ 89.8552,  84.1330,  80.4116,  54.2516],\n",
       "          [ 87.0279,  88.4590,  79.8391, 165.7327]],\n",
       "\n",
       "         [[ 94.0448,  83.1067,  86.6301,  85.1183],\n",
       "          [ 61.2268,  72.6365, 109.1768,  94.8873],\n",
       "          [ 97.1990,  73.9835, 120.6419, 103.5573],\n",
       "          [ 33.4143,  75.6482,  75.2864,  89.2334]],\n",
       "\n",
       "         [[ 98.7659,  91.5277,  36.1568,  61.5281],\n",
       "          [ 81.0282,  93.4014,  94.0989, 102.7728],\n",
       "          [124.7279,  62.5054, 106.0817, 100.3978],\n",
       "          [ 90.8256,  80.2399,  67.5704,  90.1602]]]])"
      ]
     },
     "execution_count": 46,
     "metadata": {},
     "output_type": "execute_result"
    }
   ],
   "source": [
    "angle = torch.arccos(cos_angle)\n",
    "torch.rad2deg(angle)"
   ]
  },
  {
   "cell_type": "code",
   "execution_count": 56,
   "metadata": {
    "scrolled": true
   },
   "outputs": [
    {
     "data": {
      "text/plain": [
       "(torch.Size([6, 3, 2, 4]), torch.Size([6, 3, 4, 2]))"
      ]
     },
     "execution_count": 56,
     "metadata": {},
     "output_type": "execute_result"
    }
   ],
   "source": [
    "\n",
    "def get_angles(x):\n",
    "    def directional_angles(a, b, c):\n",
    "        ba = a - b\n",
    "        bc = c - b\n",
    "        dot = (ba * bc)\n",
    "        norm = torch.linalg.norm(ba, dim=1, keepdim=True) * torch.linalg.norm(bc, dim=1, keepdim=True)\n",
    "        cos_angle = dot / norm\n",
    "        angle = torch.arccos(cos_angle)\n",
    "        return torch.rad2deg(angle)\n",
    "    \n",
    "    a = x[:, :, 0:-2, :]\n",
    "    b = x[:, :, 1:-1, :]\n",
    "    c = x[:, :, 2:, :]\n",
    "    ha = directional_angles(a, b, c)\n",
    "    a = x[:, :, :, 0:-2]\n",
    "    b = x[:, :, :, 1:-1]\n",
    "    c = x[:, :, :, 2:]\n",
    "    va = directional_angles(a, b, c)\n",
    "    \n",
    "    return ha, va\n",
    "\n",
    "ha, va = get_angles(x)#.shape\n",
    "ha.shape, va.shape"
   ]
  },
  {
   "cell_type": "code",
   "execution_count": null,
   "metadata": {},
   "outputs": [],
   "source": []
  }
 ],
 "metadata": {
  "kernelspec": {
   "display_name": "Python [conda env:conjure] *",
   "language": "python",
   "name": "conda-env-conjure-py"
  },
  "language_info": {
   "codemirror_mode": {
    "name": "ipython",
    "version": 3
   },
   "file_extension": ".py",
   "mimetype": "text/x-python",
   "name": "python",
   "nbconvert_exporter": "python",
   "pygments_lexer": "ipython3",
   "version": "3.7.11"
  }
 },
 "nbformat": 4,
 "nbformat_minor": 2
}

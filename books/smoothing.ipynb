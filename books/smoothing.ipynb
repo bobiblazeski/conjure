{
 "cells": [
  {
   "cell_type": "code",
   "execution_count": 2,
   "metadata": {},
   "outputs": [],
   "source": [
    "import torch\n",
    "import torch.nn.functional as  F\n",
    "\n",
    "from meshplot import plot\n",
    "\n",
    "from src.shared.gaussian import Gaussian\n",
    "from src.shared.faces import make_cube_faces\n",
    "from src.mesh.cube import to_stacked, to_vertices, sphered_vertices"
   ]
  },
  {
   "cell_type": "code",
   "execution_count": 16,
   "metadata": {},
   "outputs": [
    {
     "name": "stdout",
     "output_type": "stream",
     "text": [
      "torch.Size([6, 3, 128, 128])\n"
     ]
    },
    {
     "data": {
      "application/vnd.jupyter.widget-view+json": {
       "model_id": "8f2d8ddb4f9b45e595a466e7eb919f33",
       "version_major": 2,
       "version_minor": 0
      },
      "text/plain": [
       "Renderer(camera=PerspectiveCamera(children=(DirectionalLight(color='white', intensity=0.6, position=(0.0, 0.0,…"
      ]
     },
     "metadata": {},
     "output_type": "display_data"
    },
    {
     "data": {
      "text/plain": [
       "<meshplot.Viewer.Viewer at 0x7f1d2854fad0>"
      ]
     },
     "execution_count": 16,
     "metadata": {},
     "output_type": "execute_result"
    }
   ],
   "source": [
    "n, r = 128, 0.5\n",
    "pts = sphered_vertices(n, r)\n",
    "v = to_vertices(pts)\n",
    "f = make_cube_faces(n)\n",
    "print(pts.shape)\n",
    "plot(v.numpy(), f.numpy())"
   ]
  },
  {
   "cell_type": "code",
   "execution_count": 17,
   "metadata": {},
   "outputs": [
    {
     "data": {
      "application/vnd.jupyter.widget-view+json": {
       "model_id": "9eea6465383f43638c9b3698a692a49a",
       "version_major": 2,
       "version_minor": 0
      },
      "text/plain": [
       "Renderer(camera=PerspectiveCamera(children=(DirectionalLight(color='white', intensity=0.6, position=(0.0, 0.0,…"
      ]
     },
     "metadata": {},
     "output_type": "display_data"
    },
    {
     "data": {
      "text/plain": [
       "<meshplot.Viewer.Viewer at 0x7f1d3daf6d90>"
      ]
     },
     "execution_count": 17,
     "metadata": {},
     "output_type": "execute_result"
    }
   ],
   "source": [
    "g = Gaussian(3, sigma=1, padding=True)\n",
    "f = make_cube_faces(n)\n",
    "v = to_vertices(g(pts))\n",
    "plot(v.numpy(), f.numpy())"
   ]
  },
  {
   "cell_type": "code",
   "execution_count": 18,
   "metadata": {},
   "outputs": [
    {
     "data": {
      "application/vnd.jupyter.widget-view+json": {
       "model_id": "747fadb695b74ac29f2bf5937224612f",
       "version_major": 2,
       "version_minor": 0
      },
      "text/plain": [
       "Renderer(camera=PerspectiveCamera(children=(DirectionalLight(color='white', intensity=0.6, position=(0.0, 0.0,…"
      ]
     },
     "metadata": {},
     "output_type": "display_data"
    },
    {
     "data": {
      "text/plain": [
       "<meshplot.Viewer.Viewer at 0x7f1d3db613d0>"
      ]
     },
     "execution_count": 18,
     "metadata": {},
     "output_type": "execute_result"
    }
   ],
   "source": [
    "g = Gaussian(9, sigma=3, padding=True)\n",
    "f = make_cube_faces(n)\n",
    "v = to_vertices(g(pts))\n",
    "plot(v.numpy(), f.numpy())"
   ]
  },
  {
   "cell_type": "code",
   "execution_count": null,
   "metadata": {},
   "outputs": [],
   "source": [
    "pts = torch.load('./data/centered_32_32.pt')\n",
    "pts = F.interpolate(pts, scale_factor=8, mode='bilinear', align_corners=True)\n",
    "_, _, _, n = pts.shape\n",
    "print(n)\n",
    "f = make_cube_faces(n)\n",
    "v = to_vertices(pts)\n",
    "plot(v.numpy(), f.numpy())"
   ]
  },
  {
   "cell_type": "code",
   "execution_count": null,
   "metadata": {},
   "outputs": [],
   "source": [
    "g = Gaussian(3, sigma=1, padding=True)\n",
    "f = make_cube_faces(n)\n",
    "v = to_vertices(g(pts))\n",
    "plot(v.numpy(), f.numpy())"
   ]
  },
  {
   "cell_type": "code",
   "execution_count": null,
   "metadata": {},
   "outputs": [],
   "source": [
    "g = Gaussian(5, sigma=2, padding=True)\n",
    "f = make_cube_faces(n)\n",
    "v = to_vertices(g(pts))\n",
    "plot(v.numpy(), f.numpy())"
   ]
  },
  {
   "cell_type": "code",
   "execution_count": 20,
   "metadata": {},
   "outputs": [
    {
     "data": {
      "application/vnd.jupyter.widget-view+json": {
       "model_id": "14d0494f9c1640f3a9bcf92b448d7b28",
       "version_major": 2,
       "version_minor": 0
      },
      "text/plain": [
       "Renderer(camera=PerspectiveCamera(children=(DirectionalLight(color='white', intensity=0.6, position=(0.0, 0.0,…"
      ]
     },
     "metadata": {},
     "output_type": "display_data"
    },
    {
     "data": {
      "text/plain": [
       "<meshplot.Viewer.Viewer at 0x7f1d28915290>"
      ]
     },
     "execution_count": 20,
     "metadata": {},
     "output_type": "execute_result"
    }
   ],
   "source": [
    "g = Gaussian(5, sigma=1, padding=True)\n",
    "f = make_cube_faces(n)\n",
    "vert = pts\n",
    "for i in range(1000):\n",
    "    vert = g(vert)\n",
    "v = to_vertices(vert)\n",
    "plot(v.numpy(), f.numpy())"
   ]
  },
  {
   "cell_type": "code",
   "execution_count": null,
   "metadata": {},
   "outputs": [],
   "source": []
  }
 ],
 "metadata": {
  "kernelspec": {
   "display_name": "Python [conda env:conjure] *",
   "language": "python",
   "name": "conda-env-conjure-py"
  },
  "language_info": {
   "codemirror_mode": {
    "name": "ipython",
    "version": 3
   },
   "file_extension": ".py",
   "mimetype": "text/x-python",
   "name": "python",
   "nbconvert_exporter": "python",
   "pygments_lexer": "ipython3",
   "version": "3.7.11"
  }
 },
 "nbformat": 4,
 "nbformat_minor": 2
}

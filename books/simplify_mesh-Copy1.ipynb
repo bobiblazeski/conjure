{
 "cells": [
  {
   "cell_type": "code",
   "execution_count": 1,
   "metadata": {},
   "outputs": [],
   "source": [
    "import pywt\n",
    "\n",
    "import torch\n",
    "import torch.nn  as nn\n",
    "\n",
    "import meshplot \n",
    "\n",
    "from src.shared.faces import make_cube_faces\n",
    "from src.shared.sides import (    \n",
    "    to_vertices,\n",
    "    to_stacked,\n",
    "    make_phi_theta,\n",
    "    sphered_vertices,\n",
    ")\n",
    "torch.set_printoptions(precision=5, sci_mode=False)"
   ]
  },
  {
   "cell_type": "code",
   "execution_count": 2,
   "metadata": {},
   "outputs": [
    {
     "data": {
      "text/plain": [
       "(torch.Size([6144, 3]), torch.Size([12284, 3]))"
      ]
     },
     "execution_count": 2,
     "metadata": {},
     "output_type": "execute_result"
    }
   ],
   "source": [
    "v = torch.load('./vertices_32.pt')\n",
    "vert = to_stacked(v)\n",
    "n = 32\n",
    "f = make_cube_faces(n)\n",
    "v.shape, f.shape"
   ]
  },
  {
   "cell_type": "code",
   "execution_count": 3,
   "metadata": {},
   "outputs": [
    {
     "data": {
      "application/vnd.jupyter.widget-view+json": {
       "model_id": "8ce5235314cc40eea55f493bbf57ace7",
       "version_major": 2,
       "version_minor": 0
      },
      "text/plain": [
       "Renderer(camera=PerspectiveCamera(children=(DirectionalLight(color='white', intensity=0.6, position=(-0.052269…"
      ]
     },
     "metadata": {},
     "output_type": "display_data"
    }
   ],
   "source": [
    "meshplot.plot(v.numpy(), f.numpy());"
   ]
  },
  {
   "cell_type": "code",
   "execution_count": 4,
   "metadata": {},
   "outputs": [
    {
     "name": "stdout",
     "output_type": "stream",
     "text": [
      "torch.Size([6, 3, 4, 4])\n",
      "torch.Size([6, 3, 3, 6, 6])\n",
      "torch.Size([6, 3, 3, 10, 10])\n",
      "torch.Size([6, 3, 3, 17, 17])\n"
     ]
    }
   ],
   "source": [
    "import torch\n",
    "from pytorch_wavelets import DWTForward, DWTInverse # (or import DWT, IDWT)\n",
    "wave='db2' #'bior1.1' 'rbio1.1' 'db1'\n",
    "mode='symmetric'      #'zero', 'symmetric', 'reflect' or 'periodization'\n",
    "xfm = DWTForward(J=4, mode=mode, wave=wave)  # Accepts all wave types available to PyWavelets\n",
    "ifm = DWTInverse(mode=mode, wave=wave)\n",
    "\n",
    "Yl, Yh = xfm(vert)\n",
    "print(Yl.shape)\n",
    "#print(Yh[3].shape)\n",
    "print(Yh[2].shape)\n",
    "print(Yh[1].shape)\n",
    "print(Yh[0].shape)\n",
    "\n",
    "\n",
    "rec_vert = ifm((Yl, Yh))\n",
    "\n",
    "torch.testing.assert_allclose(vert,  rec_vert)\n",
    "#meshplot.plot(to_vertices(rec_vert).numpy(), f.numpy());"
   ]
  },
  {
   "cell_type": "code",
   "execution_count": 12,
   "metadata": {},
   "outputs": [
    {
     "name": "stdout",
     "output_type": "stream",
     "text": [
      "torch.Size([6, 3, 3, 6, 6])\n",
      "torch.Size([6, 3, 3, 10, 10])\n",
      "torch.Size([6, 3, 3, 17, 17])\n"
     ]
    },
    {
     "data": {
      "application/vnd.jupyter.widget-view+json": {
       "model_id": "a737e0641c4c47f99ca7407649b9d01c",
       "version_major": 2,
       "version_minor": 0
      },
      "text/plain": [
       "Renderer(camera=PerspectiveCamera(children=(DirectionalLight(color='white', intensity=0.6, position=(-0.052269…"
      ]
     },
     "metadata": {},
     "output_type": "display_data"
    }
   ],
   "source": [
    "Yh1 = [torch.zeros_like(t) for t in Yh]\n",
    "Yh1[3] = Yh[3] #torch.randn_like(Yh[3]) * 0.1\n",
    "#print(Yh1[3])\n",
    "Yh1[2] = Yh[2] #torch.randn_like(Yh[2]) * 0.01\n",
    "print(Yh1[2].shape)\n",
    "Yh1[1] = Yh[1]#torch.randn_like(Yh[1]) * 0.01\n",
    "print(Yh1[1].shape)\n",
    "Yh1[0] = Yh[0]#torch.randn_like(Yh[0]) * 0.01\n",
    "print(Yh1[0].shape)\n",
    "\n",
    "rec_vert = ifm((Yl, Yh1))\n",
    "\n",
    "vert1 = to_vertices(rec_vert)\n",
    "meshplot.plot(vert1.numpy(), f.numpy());"
   ]
  },
  {
   "cell_type": "code",
   "execution_count": 15,
   "metadata": {
    "scrolled": true
   },
   "outputs": [
    {
     "name": "stdout",
     "output_type": "stream",
     "text": [
      "torch.Size([6, 3, 64, 64])\n"
     ]
    },
    {
     "data": {
      "application/vnd.jupyter.widget-view+json": {
       "model_id": "b6f654c6f7e348e4a50b832f40c041bc",
       "version_major": 2,
       "version_minor": 0
      },
      "text/plain": [
       "Renderer(camera=PerspectiveCamera(children=(DirectionalLight(color='white', intensity=0.6, position=(0.0, 0.0,…"
      ]
     },
     "metadata": {},
     "output_type": "display_data"
    }
   ],
   "source": [
    "sv  = sphered_vertices(64, 0.75)\n",
    "print(sv.shape)\n",
    "svert = to_vertices(sv)\n",
    "\n",
    "meshplot.plot(svert.numpy(), make_cube_faces(64).numpy());"
   ]
  },
  {
   "cell_type": "code",
   "execution_count": 16,
   "metadata": {
    "scrolled": true
   },
   "outputs": [],
   "source": [
    "Yls, Yhs = xfm(sv)\n",
    "\n",
    "rec_svert = ifm((Yls, Yhs))\n",
    "\n",
    "torch.testing.assert_allclose(sv,  rec_svert)"
   ]
  },
  {
   "cell_type": "code",
   "execution_count": 28,
   "metadata": {},
   "outputs": [
    {
     "name": "stdout",
     "output_type": "stream",
     "text": [
      "torch.Size([6, 3, 4, 4])\n",
      "torch.Size([6, 3, 3, 33, 33])\n",
      "torch.Size([6, 3, 3, 18, 18])\n",
      "torch.Size([6, 3, 3, 10, 10])\n",
      "torch.Size([6, 3, 3, 6, 6])\n",
      "torch.Size([6, 3, 3, 4, 4])\n"
     ]
    },
    {
     "data": {
      "application/vnd.jupyter.widget-view+json": {
       "model_id": "574459aed4bf459aa8673cf5a6ed7639",
       "version_major": 2,
       "version_minor": 0
      },
      "text/plain": [
       "Renderer(camera=PerspectiveCamera(children=(DirectionalLight(color='white', intensity=0.6, position=(-2.086162…"
      ]
     },
     "metadata": {},
     "output_type": "display_data"
    }
   ],
   "source": [
    "wave='db2' #'bior1.1' 'rbio1.1' 'db1'\n",
    "mode = 'symmetric'\n",
    "xfm = DWTForward(J=5, mode=mode, wave=wave)  # Accepts all wave types available to PyWavelets\n",
    "ifm = DWTInverse(mode=mode, wave=wave)\n",
    "\n",
    "Yls, Yhs = xfm(sv)\n",
    "\n",
    "rec_svert = ifm((Yls, Yhs))\n",
    "\n",
    "torch.testing.assert_allclose(sv,  rec_svert)\n",
    "\n",
    "Yhs1 = [torch.zeros_like(t) for t in Yhs]\n",
    "[print(t.shape) for t in [Yls] + Yhs]\n",
    "#Yhs1[4] = Yhs[4]\n",
    "#Yhs1[3] = Yhs[3]\n",
    "Yhs1[2] = Yhs[2]\n",
    "#Yhs1[1] = Yhs[1]\n",
    "#Yhs1[0] = Yhs[0]\n",
    "rec_vert = ifm((Yls, Yhs1))\n",
    "\n",
    "vert1 = to_vertices(rec_vert)\n",
    "meshplot.plot(vert1.numpy(), make_cube_faces(64).numpy());"
   ]
  },
  {
   "cell_type": "code",
   "execution_count": 18,
   "metadata": {},
   "outputs": [
    {
     "data": {
      "text/plain": [
       "(torch.Size([6, 3, 6, 6]),)"
      ]
     },
     "execution_count": 18,
     "metadata": {},
     "output_type": "execute_result"
    }
   ],
   "source": [
    "fn = make_cube_faces(2)\n",
    "Yls.shape, "
   ]
  },
  {
   "cell_type": "code",
   "execution_count": 19,
   "metadata": {},
   "outputs": [
    {
     "data": {
      "application/vnd.jupyter.widget-view+json": {
       "model_id": "917de13f67404cb4a1e6d4fc0f8d8c63",
       "version_major": 2,
       "version_minor": 0
      },
      "text/plain": [
       "Renderer(camera=PerspectiveCamera(children=(DirectionalLight(color='white', intensity=0.6, position=(0.0, 0.0,…"
      ]
     },
     "metadata": {},
     "output_type": "display_data"
    }
   ],
   "source": [
    "meshplot.plot(to_vertices(Yls).numpy(), make_cube_faces(2).numpy());"
   ]
  },
  {
   "cell_type": "code",
   "execution_count": null,
   "metadata": {},
   "outputs": [],
   "source": []
  }
 ],
 "metadata": {
  "kernelspec": {
   "display_name": "Python [conda env:conjure] *",
   "language": "python",
   "name": "conda-env-conjure-py"
  },
  "language_info": {
   "codemirror_mode": {
    "name": "ipython",
    "version": 3
   },
   "file_extension": ".py",
   "mimetype": "text/x-python",
   "name": "python",
   "nbconvert_exporter": "python",
   "pygments_lexer": "ipython3",
   "version": "3.7.11"
  }
 },
 "nbformat": 4,
 "nbformat_minor": 2
}

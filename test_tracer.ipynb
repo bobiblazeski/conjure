{
 "cells": [
  {
   "cell_type": "code",
   "execution_count": 2,
   "metadata": {},
   "outputs": [],
   "source": [
    "import torch\n",
    "from src.render.tracer import Tracer\n",
    "from src.shared.faces import make_cube_faces"
   ]
  },
  {
   "cell_type": "code",
   "execution_count": 3,
   "metadata": {},
   "outputs": [
    {
     "data": {
      "text/plain": [
       "Tracer lib_dir:./raytracer/build/"
      ]
     },
     "execution_count": 3,
     "metadata": {},
     "output_type": "execute_result"
    }
   ],
   "source": [
    "lib_dir = './raytracer/build/'\n",
    "tracer = Tracer(lib_dir)\n",
    "tracer"
   ]
  },
  {
   "cell_type": "code",
   "execution_count": null,
   "metadata": {},
   "outputs": [],
   "source": [
    "vertices, angles, num_stbl=1e-12):\n",
    "bs = vertices.size(0)\n",
    "r = torch.stack([axyz(phi, theta, psi) for (phi, theta, psi) in angles])\n",
    "px_centers = self.centers.expand(bs, -1, -1)\n",
    "origins = self.offset_tensor(px_centers)\n",
    "directions = self.direction.expand_as(origins)\n",
    "vertices_offset = self.offset_tensor(vertices.cpu().detach().bmm(r))\n",
    "faces_offset = self.offset_faces(bs)\n",
    "res = self.tracer(origins, directions, vertices_offset, faces_offset,\n",
    "             self.default_distance, self.default_angle, self.tmax)\n",
    "\n",
    "light_angles = res[:, :, 3].to(vertices.device)\n",
    "hit_face_indices = res[:, :, 4].long()\n",
    "\n",
    "hits = res[:, :, 0:2]\n",
    "\n",
    "centers = torch.cat((res[:, :, 0:1], \n",
    "                     px_centers[:, :, 1:3]), dim=2).to(vertices.device)\n",
    "\n",
    "px_no = self.image_size ** 2\n",
    "npts = self.neighbor(hit_face_indices, vertices)\n",
    "\n",
    "diff = centers.reshape(bs, px_no, 1, 3) - npts\n",
    "influence = (torch.exp(-(diff ** 2).sum(dim=3)) + num_stbl).sum(dim=-1)                \n",
    "grayscale = (influence / influence) * light_angles\n",
    "pixels = grayscale.reshape(bs, 1, self.image_size, self.image_size)   "
   ]
  },
  {
   "cell_type": "code",
   "execution_count": 3,
   "metadata": {},
   "outputs": [
    {
     "data": {
      "text/plain": [
       "torch.Size([1, 16, 2])"
      ]
     },
     "execution_count": 3,
     "metadata": {},
     "output_type": "execute_result"
    }
   ],
   "source": [
    "bs, n = 1, 4\n",
    "px_cn = torch.randn(bs, n*n, 2)\n",
    "px_cn.shape"
   ]
  },
  {
   "cell_type": "code",
   "execution_count": 11,
   "metadata": {},
   "outputs": [
    {
     "data": {
      "text/plain": [
       "torch.Size([1, 20, 5])"
      ]
     },
     "execution_count": 11,
     "metadata": {},
     "output_type": "execute_result"
    }
   ],
   "source": [
    "default_angle=0.2\n",
    "default_distance=2.0\n",
    "tmax=3.0    \n",
    "\n",
    "origins = torch.randn(1, 20, 3)\n",
    "directions = torch.randn(1, 20, 3)\n",
    "vertices = torch.randn(6, 16, 3)\n",
    "faces = make_cube_faces(n)\n",
    "res = tracer(origins, directions, vertices, faces,\n",
    "       default_distance, default_angle, tmax)\n",
    "res.shape"
   ]
  },
  {
   "cell_type": "code",
   "execution_count": 10,
   "metadata": {},
   "outputs": [
    {
     "data": {
      "text/plain": [
       "torch.Size([188, 3])"
      ]
     },
     "execution_count": 10,
     "metadata": {},
     "output_type": "execute_result"
    }
   ],
   "source": [
    " make_cube_faces(4).shape"
   ]
  },
  {
   "cell_type": "code",
   "execution_count": 12,
   "metadata": {
    "scrolled": false
   },
   "outputs": [
    {
     "data": {
      "text/plain": [
       "tensor([[[ 5.5033e-01, -1.3505e+00,  4.1320e-01,  9.3775e-01,  1.5000e+02],\n",
       "         [ 2.1391e+00,  5.6282e-01,  2.9103e-01,  9.2277e-01,  1.5900e+02],\n",
       "         [-5.6518e-01,  5.5725e-01,  1.1282e+00,  9.6835e-01,  1.7600e+02],\n",
       "         [-4.6853e-01, -1.1462e+00, -6.0167e-01,  8.0349e-01,  1.6100e+02],\n",
       "         [-7.8937e-02, -9.0686e-01,  3.6548e-01,  2.5181e-01,  9.6000e+01],\n",
       "         [ 3.5171e-01,  1.1165e+00, -7.3731e-01,  7.7926e-01,  1.2500e+02],\n",
       "         [ 4.9297e-01, -7.5199e-01, -3.0818e-01,  7.5416e-01,  1.3200e+02],\n",
       "         [ 2.0000e+00,  2.0000e+00,  2.0000e+00,  2.0000e-01, -1.1100e+02],\n",
       "         [-3.7684e-01, -1.5366e-01,  3.5312e-01,  8.7209e-01,  3.0000e+01],\n",
       "         [ 2.0000e+00,  2.0000e+00,  2.0000e+00,  2.0000e-01, -1.1100e+02],\n",
       "         [-1.6666e-01, -7.7066e-01, -5.0357e-01,  7.8719e-01,  1.7100e+02],\n",
       "         [ 9.6295e-01,  3.4982e-01,  2.2573e-02,  6.3660e-01,  5.8000e+01],\n",
       "         [ 2.0000e+00,  2.0000e+00,  2.0000e+00,  2.0000e-01, -1.1100e+02],\n",
       "         [-1.1540e+00,  1.0773e+00,  3.7360e-02,  4.3204e-01,  1.8000e+01],\n",
       "         [-4.5858e-02,  2.6431e-01, -9.3533e-01,  7.2022e-01,  1.6300e+02],\n",
       "         [ 2.0000e+00,  2.0000e+00,  2.0000e+00,  2.0000e-01, -1.1100e+02],\n",
       "         [ 3.0937e-01,  8.4880e-01, -7.2032e-01,  2.2819e-01,  1.1800e+02],\n",
       "         [ 1.2441e+00, -6.7128e-01,  7.7026e-01,  8.6322e-01,  4.0000e+01],\n",
       "         [ 2.0000e+00,  2.0000e+00,  2.0000e+00,  2.0000e-01, -1.1100e+02],\n",
       "         [-3.6810e-02, -2.2680e-01, -2.0507e-01,  6.8912e-01,  1.5300e+02]]])"
      ]
     },
     "execution_count": 12,
     "metadata": {},
     "output_type": "execute_result"
    }
   ],
   "source": [
    "res"
   ]
  },
  {
   "cell_type": "code",
   "execution_count": 4,
   "metadata": {},
   "outputs": [],
   "source": [
    "import torch\n",
    "\n",
    "from src.mesh.core import Core\n",
    "from src.mesh.octave import Octave\n",
    "\n",
    "import meshplot"
   ]
  },
  {
   "cell_type": "code",
   "execution_count": 12,
   "metadata": {
    "scrolled": false
   },
   "outputs": [
    {
     "data": {
      "application/vnd.jupyter.widget-view+json": {
       "model_id": "62d99a7f443c4738a8b2118fac0c5557",
       "version_major": 2,
       "version_minor": 0
      },
      "text/plain": [
       "Renderer(camera=PerspectiveCamera(children=(DirectionalLight(color='white', intensity=0.6, position=(0.0008179…"
      ]
     },
     "metadata": {},
     "output_type": "display_data"
    }
   ],
   "source": [
    "n =  32\n",
    "core = Core(n, noise=0.01)\n",
    "vrt, faces, nrm = core()\n",
    "meshplot.plot(vrt.detach().cpu().numpy(), faces.numpy());"
   ]
  },
  {
   "cell_type": "code",
   "execution_count": 3,
   "metadata": {},
   "outputs": [
    {
     "data": {
      "text/plain": [
       "(torch.Size([6144, 3]), torch.Size([12284, 3]), torch.Size([6144, 3]))"
      ]
     },
     "execution_count": 3,
     "metadata": {},
     "output_type": "execute_result"
    }
   ],
   "source": [
    "default_angle=0.2\n",
    "default_distance=2.0\n",
    "tmax=3.0    \n",
    "\n",
    "origins = torch.randn(1, 20, 3)\n",
    "directions = torch.randn(1, 20, 3)\n",
    "vertices = torch.randn(6, 16, 3)\n",
    "faces = make_cube_faces(n)\n",
    "res = tracer(origins, directions, vertices, faces,\n",
    "       default_distance, default_angle, tmax)\n",
    "\n",
    "vrt.shape, faces.shape, nrm.shape"
   ]
  },
  {
   "cell_type": "code",
   "execution_count": 15,
   "metadata": {},
   "outputs": [
    {
     "data": {
      "text/plain": [
       "tensor([[[   2.0000,    2.0000,    2.0000,    0.2000, -111.0000]],\n",
       "\n",
       "        [[   2.0000,    2.0000,    2.0000,    0.2000, -111.0000]],\n",
       "\n",
       "        [[   2.0000,    2.0000,    2.0000,    0.2000, -111.0000]],\n",
       "\n",
       "        ...,\n",
       "\n",
       "        [[   2.0000,    2.0000,    2.0000,    0.2000, -111.0000]],\n",
       "\n",
       "        [[   2.0000,    2.0000,    2.0000,    0.2000, -111.0000]],\n",
       "\n",
       "        [[   2.0000,    2.0000,    2.0000,    0.2000, -111.0000]]])"
      ]
     },
     "execution_count": 15,
     "metadata": {},
     "output_type": "execute_result"
    }
   ],
   "source": [
    "default_angle=0.2\n",
    "default_distance=2.0\n",
    "tmax=3.0    \n",
    "\n",
    "origins = vrt\n",
    "directions = nrm\n",
    "\n",
    "vertices = vrt\n",
    "\n",
    "res = tracer(origins, directions, vrt, faces,\n",
    "             default_distance, default_angle, tmax)\n",
    "res"
   ]
  },
  {
   "cell_type": "code",
   "execution_count": null,
   "metadata": {},
   "outputs": [],
   "source": []
  }
 ],
 "metadata": {
  "kernelspec": {
   "display_name": "Python [conda env:conjure] *",
   "language": "python",
   "name": "conda-env-conjure-py"
  },
  "language_info": {
   "codemirror_mode": {
    "name": "ipython",
    "version": 3
   },
   "file_extension": ".py",
   "mimetype": "text/x-python",
   "name": "python",
   "nbconvert_exporter": "python",
   "pygments_lexer": "ipython3",
   "version": "3.7.11"
  }
 },
 "nbformat": 4,
 "nbformat_minor": 2
}
